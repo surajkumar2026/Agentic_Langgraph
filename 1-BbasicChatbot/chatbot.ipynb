{
 "cells": [
  {
   "cell_type": "markdown",
   "id": "7e06ee86",
   "metadata": {},
   "source": [
    "### Build A Basic Chatbot With Langgraph(GRAPH API)"
   ]
  },
  {
   "cell_type": "code",
   "execution_count": 1,
   "id": "9055239a",
   "metadata": {},
   "outputs": [],
   "source": [
    "from typing import Annotated\n",
    "\n",
    "from typing_extensions import TypedDict\n",
    "\n",
    "from langgraph.graph import StateGraph,START,END\n",
    "from langgraph.graph.message import add_messages\n"
   ]
  },
  {
   "cell_type": "code",
   "execution_count": 2,
   "id": "b393f690",
   "metadata": {},
   "outputs": [],
   "source": [
    "class State(TypedDict):\n",
    "    # Messages have the type \"list\". The `add_messages` function\n",
    "    # in the annotation defines how this state key should be updated\n",
    "    # (in this case, it appends messages to the list, rather than overwriting them)\n",
    "    messages:Annotated[list,add_messages]\n",
    "\n"
   ]
  },
  {
   "cell_type": "code",
   "execution_count": 3,
   "id": "d23391db",
   "metadata": {},
   "outputs": [
    {
     "data": {
      "text/plain": [
       "True"
      ]
     },
     "execution_count": 3,
     "metadata": {},
     "output_type": "execute_result"
    }
   ],
   "source": [
    "import os\n",
    "from dotenv import load_dotenv\n",
    "load_dotenv()"
   ]
  },
  {
   "cell_type": "code",
   "execution_count": 4,
   "id": "0d18f35a",
   "metadata": {},
   "outputs": [],
   "source": [
    "from langchain_groq import ChatGroq\n",
    "from langchain.chat_models import init_chat_model\n",
    "\n",
    "llm=ChatGroq(model=\"llama3-8b-8192\")"
   ]
  },
  {
   "cell_type": "code",
   "execution_count": 5,
   "id": "b00e0b09",
   "metadata": {},
   "outputs": [
    {
     "data": {
      "text/plain": [
       "ChatGroq(client=<groq.resources.chat.completions.Completions object at 0x000002334EFF8D70>, async_client=<groq.resources.chat.completions.AsyncCompletions object at 0x000002334EFF9940>, model_name='llama3-8b-8192', model_kwargs={}, groq_api_key=SecretStr('**********'))"
      ]
     },
     "execution_count": 5,
     "metadata": {},
     "output_type": "execute_result"
    }
   ],
   "source": [
    "llm"
   ]
  },
  {
   "cell_type": "code",
   "execution_count": 6,
   "id": "dc2c52ec",
   "metadata": {},
   "outputs": [
    {
     "data": {
      "text/plain": [
       "ChatGroq(client=<groq.resources.chat.completions.Completions object at 0x000002334F0B1A90>, async_client=<groq.resources.chat.completions.AsyncCompletions object at 0x000002334F0B2490>, model_name='llama3-8b-8192', model_kwargs={}, groq_api_key=SecretStr('**********'))"
      ]
     },
     "execution_count": 6,
     "metadata": {},
     "output_type": "execute_result"
    }
   ],
   "source": [
    "llm=init_chat_model(\"groq:llama3-8b-8192\")\n",
    "llm"
   ]
  },
  {
   "cell_type": "code",
   "execution_count": 7,
   "id": "af50c0a6",
   "metadata": {},
   "outputs": [],
   "source": [
    "## Node Functionality\n",
    "def chatbot(state:State):\n",
    "    return {\"messages\":[llm.invoke(state[\"messages\"])]}"
   ]
  },
  {
   "cell_type": "code",
   "execution_count": 8,
   "id": "11b77875",
   "metadata": {},
   "outputs": [],
   "source": [
    "graph_builder=StateGraph(State)\n",
    "\n",
    "## Adding node\n",
    "graph_builder.add_node(\"llmchatbot\",chatbot)\n",
    "## Adding Edges\n",
    "graph_builder.add_edge(START,\"llmchatbot\")\n",
    "graph_builder.add_edge(\"llmchatbot\",END)\n",
    "\n",
    "## compile the graph\n",
    "graph=graph_builder.compile()"
   ]
  },
  {
   "cell_type": "code",
   "execution_count": 10,
   "id": "17b74dd8",
   "metadata": {},
   "outputs": [
    {
     "data": {
      "image/png": "[encoded data removed]",
      "text/plain": [
       "<IPython.core.display.Image object>"
      ]
     },
     "metadata": {},
     "output_type": "display_data"
    }
   ],
   "source": [
    "## Visualize the graph\n",
    "from IPython.display import Image,display\n",
    "\n",
    "try:\n",
    "    display(Image(graph.get_graph().draw_mermaid_png()))\n",
    "except Exception:\n",
    "    pass"
   ]
  },
  {
   "cell_type": "code",
   "execution_count": 11,
   "id": "1d91a7e9",
   "metadata": {},
   "outputs": [],
   "source": [
    "response=graph.invoke({\"messages\":\"Hi\"})"
   ]
  },
  {
   "cell_type": "code",
   "execution_count": 12,
   "id": "323b71a2",
   "metadata": {},
   "outputs": [
    {
     "data": {
      "text/plain": [
       "\"Hi! It's nice to meet you. Is there something I can help you with or would you like to chat?\""
      ]
     },
     "execution_count": 12,
     "metadata": {},
     "output_type": "execute_result"
    }
   ],
   "source": [
    "response[\"messages\"][-1].content"
   ]
  },
  {
   "cell_type": "code",
   "execution_count": 13,
   "id": "bd9240e9",
   "metadata": {},
   "outputs": [
    {
     "name": "stdout",
     "output_type": "stream",
     "text": [
      "I'm just a language model, I don't have emotions or feelings like humans do, but I'm functioning properly and ready to help with any questions or tasks you may have!\n"
     ]
    }
   ],
   "source": [
    "for event in graph.stream({\"messages\":\"Hi How are you?\"}):\n",
    "    for value in event.values():\n",
    "        print(value[\"messages\"][-1].content)"
   ]
  },
  {
   "cell_type": "markdown",
   "id": "a04b696d",
   "metadata": {},
   "source": [
    "### Chatbot With Tool"
   ]
  },
  {
   "cell_type": "code",
   "execution_count": 14,
   "id": "447e146a",
   "metadata": {},
   "outputs": [
    {
     "data": {
      "text/plain": [
       "{'query': 'What is langgraph',\n",
       " 'follow_up_questions': None,\n",
       " 'answer': None,\n",
       " 'images': [],\n",
       " 'results': [{'url': 'https://www.datacamp.com/tutorial/langgraph-tutorial',\n",
       "   'title': 'LangGraph Tutorial: What Is LangGraph and How to Use It?',\n",
       "   'content': 'LangGraph is a library within the LangChain ecosystem that provides a framework for defining, coordinating, and executing multiple LLM agents (or chains) in a structured and efficient manner. By managing the flow of data and the sequence of operations, LangGraph allows developers to focus on the high-level logic of their applications rather than the intricacies of agent coordination. Whether you need a chatbot that can handle various types of user requests or a multi-agent system that performs complex tasks, LangGraph provides the tools to build exactly what you need. LangGraph significantly simplifies the development of complex LLM applications by providing a structured framework for managing state and coordinating agent interactions.',\n",
       "   'score': 0.9502313,\n",
       "   'raw_content': None},\n",
       "  {'url': 'https://www.ibm.com/think/topics/langgraph',\n",
       "   'title': 'What is LangGraph? - IBM',\n",
       "   'content': 'LangGraph, created by LangChain, is an open source AI agent framework designed to build, deploy and manage complex generative AI agent workflows. At its core, LangGraph uses the power of graph-based architectures to model and manage the intricate relationships between various components of an AI agent workflow. LangGraph illuminates the processes within an AI workflow, allowing full transparency of the agent’s state. By combining these technologies with a set of APIs and tools, LangGraph provides users with a versatile platform for developing AI solutions and workflows including chatbots, state graphs and other agent-based systems. Nodes: In LangGraph, nodes represent individual components or agents within an AI workflow. LangGraph uses enhanced decision-making by modeling complex relationships between nodes, which means it uses AI agents to analyze their past actions and feedback.',\n",
       "   'score': 0.94401723,\n",
       "   'raw_content': None}],\n",
       " 'response_time': 0.87}"
      ]
     },
     "execution_count": 14,
     "metadata": {},
     "output_type": "execute_result"
    }
   ],
   "source": [
    "from langchain_tavily import TavilySearch\n",
    "\n",
    "tool=TavilySearch(max_results=2)\n",
    "tool.invoke(\"What is langgraph\")"
   ]
  },
  {
   "cell_type": "code",
   "execution_count": 15,
   "id": "cd185da9",
   "metadata": {},
   "outputs": [],
   "source": [
    "## Custom function\n",
    "def multiply(a:int,b:int)->int:\n",
    "    \"\"\"Multiply a and b\n",
    "\n",
    "    Args:\n",
    "        a (int): first int\n",
    "        b (int): second int\n",
    "\n",
    "    Returns:\n",
    "        int: output int\n",
    "    \"\"\"\n",
    "    return a*b"
   ]
  },
  {
   "cell_type": "code",
   "execution_count": 16,
   "id": "bf5e176d",
   "metadata": {},
   "outputs": [],
   "source": [
    "tools=[tool,multiply]"
   ]
  },
  {
   "cell_type": "code",
   "execution_count": 17,
   "id": "046be79e",
   "metadata": {},
   "outputs": [],
   "source": [
    "llm_with_tool=llm.bind_tools(tools)"
   ]
  },
  {
   "cell_type": "code",
   "execution_count": 18,
   "id": "e19544d2",
   "metadata": {},
   "outputs": [
    {
     "data": {
      "text/plain": [
       "RunnableBinding(bound=ChatGroq(client=<groq.resources.chat.completions.Completions object at 0x000002334F0B1A90>, async_client=<groq.resources.chat.completions.AsyncCompletions object at 0x000002334F0B2490>, model_name='llama3-8b-8192', model_kwargs={}, groq_api_key=SecretStr('**********')), kwargs={'tools': [{'type': 'function', 'function': {'name': 'tavily_search', 'description': 'A search engine optimized for comprehensive, accurate, and trusted results. Useful for when you need to answer questions about current events. It not only retrieves URLs and snippets, but offers advanced search depths, domain management, time range filters, and image search, this tool delivers real-time, accurate, and citation-backed results.Input should be a search query.', 'parameters': {'properties': {'query': {'description': 'Search query to look up', 'type': 'string'}, 'include_domains': {'anyOf': [{'items': {'type': 'string'}, 'type': 'array'}, {'type': 'null'}], 'default': [], 'description': 'A list of domains to restrict search results to.\\n\\n        Use this parameter when:\\n        1. The user explicitly requests information from specific websites (e.g., \"Find climate data from nasa.gov\")\\n        2. The user mentions an organization or company without specifying the domain (e.g., \"Find information about iPhones from Apple\")\\n\\n        In both cases, you should determine the appropriate domains (e.g., [\"nasa.gov\"] or [\"apple.com\"]) and set this parameter.\\n\\n        Results will ONLY come from the specified domains - no other sources will be included.\\n        Default is None (no domain restriction).\\n        '}, 'exclude_domains': {'anyOf': [{'items': {'type': 'string'}, 'type': 'array'}, {'type': 'null'}], 'default': [], 'description': 'A list of domains to exclude from search results.\\n\\n        Use this parameter when:\\n        1. The user explicitly requests to avoid certain websites (e.g., \"Find information about climate change but not from twitter.com\")\\n        2. The user mentions not wanting results from specific organizations without naming the domain (e.g., \"Find phone reviews but nothing from Apple\")\\n\\n        In both cases, you should determine the appropriate domains to exclude (e.g., [\"twitter.com\"] or [\"apple.com\"]) and set this parameter.\\n\\n        Results will filter out all content from the specified domains.\\n        Default is None (no domain exclusion).\\n        '}, 'search_depth': {'anyOf': [{'enum': ['basic', 'advanced'], 'type': 'string'}, {'type': 'null'}], 'default': 'basic', 'description': 'Controls search thoroughness and result comprehensiveness.\\n    \\n        Use \"basic\" for simple queries requiring quick, straightforward answers.\\n        \\n        Use \"advanced\" (default) for complex queries, specialized topics, \\n        rare information, or when in-depth analysis is needed.\\n        '}, 'include_images': {'anyOf': [{'type': 'boolean'}, {'type': 'null'}], 'default': False, 'description': 'Determines if the search returns relevant images along with text results.\\n   \\n        Set to True when the user explicitly requests visuals or when images would \\n        significantly enhance understanding (e.g., \"Show me what black holes look like,\" \\n        \"Find pictures of Renaissance art\").\\n        \\n        Leave as False (default) for most informational queries where text is sufficient.\\n        '}, 'time_range': {'anyOf': [{'enum': ['day', 'week', 'month', 'year'], 'type': 'string'}, {'type': 'null'}], 'default': None, 'description': 'Limits results to content published within a specific timeframe.\\n        \\n        ONLY set this when the user explicitly mentions a time period \\n        (e.g., \"latest AI news,\" \"articles from last week\").\\n        \\n        For less popular or niche topics, use broader time ranges \\n        (\"month\" or \"year\") to ensure sufficient relevant results.\\n   \\n        Options: \"day\" (24h), \"week\" (7d), \"month\" (30d), \"year\" (365d).\\n        \\n        Default is None.\\n        '}, 'topic': {'anyOf': [{'enum': ['general', 'news', 'finance'], 'type': 'string'}, {'type': 'null'}], 'default': 'general', 'description': 'Specifies search category for optimized results.\\n   \\n        Use \"general\" (default) for most queries, INCLUDING those with terms like \\n        \"latest,\" \"newest,\" or \"recent\" when referring to general information.\\n\\n        Use \"finance\" for markets, investments, economic data, or financial news.\\n\\n        Use \"news\" ONLY for politics, sports, or major current events covered by \\n        mainstream media - NOT simply because a query asks for \"new\" information.\\n        '}}, 'required': ['query'], 'type': 'object'}}}, {'type': 'function', 'function': {'name': 'multiply', 'description': 'Multiply a and b', 'parameters': {'properties': {'a': {'description': 'first int', 'type': 'integer'}, 'b': {'description': 'second int', 'type': 'integer'}}, 'required': ['a', 'b'], 'type': 'object'}}}]}, config={}, config_factories=[])"
      ]
     },
     "execution_count": 18,
     "metadata": {},
     "output_type": "execute_result"
    }
   ],
   "source": [
    "llm_with_tool"
   ]
  },
  {
   "cell_type": "code",
   "execution_count": 19,
   "id": "550d837b",
   "metadata": {},
   "outputs": [
    {
     "data": {
      "image/png": "[encoded data removed]",
      "text/plain": [
       "<IPython.core.display.Image object>"
      ]
     },
     "metadata": {},
     "output_type": "display_data"
    }
   ],
   "source": [
    "## Stategraph\n",
    "from langgraph.graph import StateGraph,START,END\n",
    "from langgraph.prebuilt import ToolNode\n",
    "from langgraph.prebuilt import tools_condition\n",
    "\n",
    "## Node definition\n",
    "def tool_calling_llm(state:State):\n",
    "    return {\"messages\":[llm_with_tool.invoke(state[\"messages\"])]}\n",
    "\n",
    "## Grpah\n",
    "builder=StateGraph(State)\n",
    "builder.add_node(\"tool_calling_llm\",tool_calling_llm)\n",
    "builder.add_node(\"tools\",ToolNode(tools))\n",
    "\n",
    "## Add Edges\n",
    "builder.add_edge(START, \"tool_calling_llm\")\n",
    "builder.add_conditional_edges(\n",
    "    \"tool_calling_llm\",\n",
    "    # If the latest message (result) from assistant is a tool call -> tools_condition routes to tools\n",
    "    # If the latest message (result) from assistant is a not a tool call -> tools_condition routes to END\n",
    "    tools_condition\n",
    ")\n",
    "builder.add_edge(\"tools\",END)\n",
    "\n",
    "## compile the graph\n",
    "graph=builder.compile()\n",
    "\n",
    "from IPython.display import Image, display\n",
    "display(Image(graph.get_graph().draw_mermaid_png()))\n",
    "\n"
   ]
  },
  {
   "cell_type": "code",
   "execution_count": 20,
   "id": "d802d254",
   "metadata": {},
   "outputs": [],
   "source": [
    "response=graph.invoke({\"messages\":\"What is the recent ai news\"})"
   ]
  },
  {
   "cell_type": "code",
   "execution_count": 21,
   "id": "0f6168c2",
   "metadata": {},
   "outputs": [
    {
     "data": {
      "text/plain": [
       "'{\"query\": \"latest ai news\", \"follow_up_questions\": null, \"answer\": null, \"images\": [], \"results\": [{\"url\": \"https://www.theguardian.com/technology/artificialintelligenceai\", \"title\": \"Artificial intelligence (AI) | The Guardian\", \"content\": \"## Artificial intelligence (AI)\\\\n\\\\n## 9 July 2025\\\\n\\\\nA robot playing chess\\\\n\\\\n### Futurist Adam Dorr on how robots will take our jobs: ‘We don’t have long to get ready – it’s going to be tumultuous’\\\\n\\\\n## 8 July 2025\\\\n\\\\nIllustration shows 3D-printed miniature model of Elon Musk and X logo\\\\n\\\\n### Musk’s AI firm forced to delete posts praising Hitler from Grok chatbot\\\\n\\\\nGrok logo\\\\n\\\\n### Musk’s Grok AI bot generates expletive-laden rants to questions on Polish politics [...] ### How terrorist groups are leveraging AI to recruit and finance their operations\\\\n\\\\n## 7 July 2025\\\\n\\\\nJohn Caudwell\\\\n\\\\n### Billionaire Labour backer John Caudwell ‘nervous’ about Starmer\\\\n\\\\nEmma Beddington\\\\n\\\\n### The worst thing about AI? That stupid Samsung ad where the guy adds ‘way too much sugar’ to his pasta sauce\\\\n\\\\n## 6 July 2025\\\\n\\\\nComposite for the series Internet Wormhole on AI bible stories. The image shows a side by side of two AI bible videos. [...] ### Internet wormhole What if Jesus was a vlogger? The AI Bible stories flooding social media\\\\n\\\\nA ride at Legoland Shanghai\\\\n\\\\n### ‘Big metal rollercoasters beat AI’: Legoland owner’s boss on the thrill of theme parks in a tech world\\\\n\\\\nConnor Myers\\\\n\\\\n### As if graduating weren’t daunting enough, now students like me face a jobs market devastated by AI\\\\n\\\\n## 5 July 2025\\\\n\\\\nArwa Mahdawi\\\\n\\\\n### The Week in Patriarchy Diddy’s trial is more proof the legal system can’t handle domestic violence\\\\n\\\\n## 4 July 2025\", \"score\": 0.6690754, \"raw_content\": null}, {\"url\": \"https://finance.yahoo.com/news/better-buy-2025-soundhound-ai-101500138.html\", \"title\": \"Better Buy in 2025: SoundHound AI, or This Other Magnificent ...\", \"content\": \"Earlier this year, DigitalOcean launched a new platform called GenAI, where its clients can create and deploy custom AI agents. These agents can do almost anything, whether an SMB needs them to analyze documents, detect fraud, or even autonomously onboard new employees. The agents are built on the latest third-party large language models from leading developers like OpenAI and Meta Platforms, so SMBs know they are getting the same technology as some of their largest competitors. [...] DigitalOcean expects to generate $880 million in total revenue during 2025, which would represent a modest growth of 13% compared to the prior year. However, during the first quarter, the company said its AI revenue surged by an eye-popping 160%. Management doesn\\'t disclose exactly how much revenue is attributable to its AI services, but it says demand for GPU capacity continues to outstrip supply, which means the significant growth is likely to continue for now. [...] Automotive manufacturers are integrating SoundHound\\'s Chat AI product into their new vehicles, where it can teach drivers how to use different features or answer questions about gas mileage and even the weather. Manufacturers can customize Chat AI\\'s personality to suit their brand, which differentiates the user experience from the competition.\", \"score\": 0.57780564, \"raw_content\": null}], \"response_time\": 3.85}'"
      ]
     },
     "execution_count": 21,
     "metadata": {},
     "output_type": "execute_result"
    }
   ],
   "source": [
    "response['messages'][-1].content"
   ]
  },
  {
   "cell_type": "code",
   "execution_count": 22,
   "id": "8051ed54",
   "metadata": {},
   "outputs": [
    {
     "name": "stdout",
     "output_type": "stream",
     "text": [
      "================================\u001b[1m Human Message \u001b[0m=================================\n",
      "\n",
      "What is the recent ai news\n",
      "==================================\u001b[1m Ai Message \u001b[0m==================================\n",
      "Tool Calls:\n",
      "  tavily_search (f0vcm4164)\n",
      " Call ID: f0vcm4164\n",
      "  Args:\n",
      "    query: latest ai news\n",
      "    search_depth: advanced\n",
      "    time_range: day\n",
      "    topic: general\n",
      "=================================\u001b[1m Tool Message \u001b[0m=================================\n",
      "Name: tavily_search\n",
      "\n",
      "{\"query\": \"latest ai news\", \"follow_up_questions\": null, \"answer\": null, \"images\": [], \"results\": [{\"url\": \"https://www.theguardian.com/technology/artificialintelligenceai\", \"title\": \"Artificial intelligence (AI) | The Guardian\", \"content\": \"## Artificial intelligence (AI)\\n\\n## 9 July 2025\\n\\nA robot playing chess\\n\\n### Futurist Adam Dorr on how robots will take our jobs: ‘We don’t have long to get ready – it’s going to be tumultuous’\\n\\n## 8 July 2025\\n\\nIllustration shows 3D-printed miniature model of Elon Musk and X logo\\n\\n### Musk’s AI firm forced to delete posts praising Hitler from Grok chatbot\\n\\nGrok logo\\n\\n### Musk’s Grok AI bot generates expletive-laden rants to questions on Polish politics [...] ### How terrorist groups are leveraging AI to recruit and finance their operations\\n\\n## 7 July 2025\\n\\nJohn Caudwell\\n\\n### Billionaire Labour backer John Caudwell ‘nervous’ about Starmer\\n\\nEmma Beddington\\n\\n### The worst thing about AI? That stupid Samsung ad where the guy adds ‘way too much sugar’ to his pasta sauce\\n\\n## 6 July 2025\\n\\nComposite for the series Internet Wormhole on AI bible stories. The image shows a side by side of two AI bible videos. [...] ### Internet wormhole What if Jesus was a vlogger? The AI Bible stories flooding social media\\n\\nA ride at Legoland Shanghai\\n\\n### ‘Big metal rollercoasters beat AI’: Legoland owner’s boss on the thrill of theme parks in a tech world\\n\\nConnor Myers\\n\\n### As if graduating weren’t daunting enough, now students like me face a jobs market devastated by AI\\n\\n## 5 July 2025\\n\\nArwa Mahdawi\\n\\n### The Week in Patriarchy Diddy’s trial is more proof the legal system can’t handle domestic violence\\n\\n## 4 July 2025\", \"score\": 0.6690754, \"raw_content\": null}, {\"url\": \"https://finance.yahoo.com/news/better-buy-2025-soundhound-ai-101500138.html\", \"title\": \"Better Buy in 2025: SoundHound AI, or This Other Magnificent ...\", \"content\": \"Earlier this year, DigitalOcean launched a new platform called GenAI, where its clients can create and deploy custom AI agents. These agents can do almost anything, whether an SMB needs them to analyze documents, detect fraud, or even autonomously onboard new employees. The agents are built on the latest third-party large language models from leading developers like OpenAI and Meta Platforms, so SMBs know they are getting the same technology as some of their largest competitors. [...] DigitalOcean expects to generate $880 million in total revenue during 2025, which would represent a modest growth of 13% compared to the prior year. However, during the first quarter, the company said its AI revenue surged by an eye-popping 160%. Management doesn't disclose exactly how much revenue is attributable to its AI services, but it says demand for GPU capacity continues to outstrip supply, which means the significant growth is likely to continue for now. [...] Automotive manufacturers are integrating SoundHound's Chat AI product into their new vehicles, where it can teach drivers how to use different features or answer questions about gas mileage and even the weather. Manufacturers can customize Chat AI's personality to suit their brand, which differentiates the user experience from the competition.\", \"score\": 0.57780564, \"raw_content\": null}], \"response_time\": 3.85}\n"
     ]
    }
   ],
   "source": [
    "for m in response['messages']:\n",
    "    m.pretty_print()"
   ]
  },
  {
   "cell_type": "code",
   "execution_count": 15,
   "id": "36f8fb4e",
   "metadata": {},
   "outputs": [
    {
     "name": "stdout",
     "output_type": "stream",
     "text": [
      "================================\u001b[1m Human Message \u001b[0m=================================\n",
      "\n",
      "What is 5 multiplied by 2\n",
      "==================================\u001b[1m Ai Message \u001b[0m==================================\n",
      "Tool Calls:\n",
      "  multiply (g6rrcbzyx)\n",
      " Call ID: g6rrcbzyx\n",
      "  Args:\n",
      "    a: 5\n",
      "    b: 2\n",
      "=================================\u001b[1m Tool Message \u001b[0m=================================\n",
      "Name: multiply\n",
      "\n",
      "10\n"
     ]
    }
   ],
   "source": [
    "response=graph.invoke({\"messages\":\"What is 5 multiplied by 2\"})\n",
    "for m in response['messages']:\n",
    "    m.pretty_print()\n"
   ]
  },
  {
   "cell_type": "code",
   "execution_count": 23,
   "id": "adb7c3fd",
   "metadata": {},
   "outputs": [
    {
     "name": "stdout",
     "output_type": "stream",
     "text": [
      "================================\u001b[1m Human Message \u001b[0m=================================\n",
      "\n",
      "Give me the recent ai news and then multiply 5 by 10\n",
      "==================================\u001b[1m Ai Message \u001b[0m==================================\n",
      "Tool Calls:\n",
      "  tavily_search (r5wpazhpf)\n",
      " Call ID: r5wpazhpf\n",
      "  Args:\n",
      "    query: recent ai news\n",
      "    search_depth: advanced\n",
      "    time_range: day\n",
      "  multiply (xm6d5gc0k)\n",
      " Call ID: xm6d5gc0k\n",
      "  Args:\n",
      "    a: 5\n",
      "    b: 10\n",
      "=================================\u001b[1m Tool Message \u001b[0m=================================\n",
      "Name: tavily_search\n",
      "\n",
      "{\"query\": \"recent ai news\", \"follow_up_questions\": null, \"answer\": null, \"images\": [], \"results\": [{\"url\": \"https://www.theatlantic.com/technology/archive/2025/07/ai-radicalization-civil-war/683460/\", \"title\": \"The AI Industry Is Radicalizing - The Atlantic\", \"content\": \"start-ups promise “full automation of the economy,” “unbounded connection” with millions of AI personas, “limitless” memory, a solution to “all disease.” In recent weeks, several AI researchers and founders have told me they’re rethinking the value of school: One entrepreneur told me that today’s bots may already be more scholastically capable than his teenage son will ever be, leading him to doubt the value of a traditional education. [...] As the technology and its outputs become ubiquitous, AI executives have grown strident, even brazen, about the technology’s stakes. Two weeks ago, Jack Clark, a co-founder of Anthropic, warned Congress that there are perhaps 18 months until the arrival of “truly transformative technology”—AI systems that far exceed any existing chatbot or brain. The day after Donald Trump’s second inauguration, Alexandr Wang, the recently hired chief AI officer at Meta, wrote to the president that the United [...] The two camps are more and more frequently coming into direct conflict. A few days before we spoke, Marcus had triggered his latest online spat with the AI industry after posting an edited image showing Altman’s face plastered over a photograph of the infamous Elizabeth Holmes. “True performance art,” Altman quipped in response. Ed Zitron, a prominent AI critic, recently wrote a nearly 7,000-word essay insisting that he is “sick and tired of everybody pretending that generative AI is the next\", \"score\": 0.7339103, \"raw_content\": null}, {\"url\": \"https://news.un.org/en/story/2025/07/1165346\", \"title\": \"UN summit confronts AI's dawn of wonders and warnings - UN News\", \"content\": \"Her remarks reflected a growing sense of urgency among policymakers and technologists, as new “agentic AI” systems capable of autonomous reasoning and action emerge at unprecedented speed.\\n\\nWith some experts predicting human-level AI within the next three years, concerns about safety, bias, energy consumption and regulatory capacity have intensified.\\n\\nTech on display at the AI for Good Global Summit.\\n\\n## Tech on display\\n\\nThe summit’s agenda reflects these tensions. [...] One highlight will be the AI Governance Day on Thursday, where national regulators and international organizations will address the gap in global oversight. An ITU survey found that 85 per cent of countries lack an AI-specific policy or strategy, raising alarms about uneven development and growing digital divides.\\n\\n## Focus on health\\n\\nHealth is a prominent theme this year. [...] The AI for Good Global Summit 2025 brings together governments, tech leaders, academics, civil society and young people to explore how artificial intelligence can be directed toward Sustainable Development Goals (SDGs) – and away from growing risks of inequality, disinformation and environmental strain.\", \"score\": 0.57837737, \"raw_content\": null}], \"response_time\": 2.73}\n",
      "=================================\u001b[1m Tool Message \u001b[0m=================================\n",
      "Name: multiply\n",
      "\n",
      "50\n"
     ]
    }
   ],
   "source": [
    "response=graph.invoke({\"messages\":\"Give me the recent ai news and then multiply 5 by 10\"})\n",
    "for m in response['messages']:\n",
    "    m.pretty_print()"
   ]
  },
  {
   "cell_type": "markdown",
   "id": "28fd11d4",
   "metadata": {},
   "source": [
    "### ReAct Agent Architecture"
   ]
  },
  {
   "cell_type": "code",
   "execution_count": 24,
   "id": "8676799c",
   "metadata": {},
   "outputs": [
    {
     "data": {
      "image/png": "[encoded data removed]",
      "text/plain": [
       "<IPython.core.display.Image object>"
      ]
     },
     "metadata": {},
     "output_type": "display_data"
    }
   ],
   "source": [
    "## Stategraph\n",
    "from langgraph.graph import StateGraph,START,END\n",
    "from langgraph.prebuilt import ToolNode\n",
    "from langgraph.prebuilt import tools_condition\n",
    "\n",
    "## Node definition\n",
    "def tool_calling_llm(state:State):\n",
    "    return {\"messages\":[llm_with_tool.invoke(state[\"messages\"])]}\n",
    "\n",
    "## Grpah\n",
    "builder=StateGraph(State)\n",
    "builder.add_node(\"tool_calling_llm\",tool_calling_llm)\n",
    "builder.add_node(\"tools\",ToolNode(tools))\n",
    "\n",
    "## Add Edges\n",
    "builder.add_edge(START, \"tool_calling_llm\")\n",
    "builder.add_conditional_edges(\n",
    "    \"tool_calling_llm\",\n",
    "    # If the latest message (result) from assistant is a tool call -> tools_condition routes to tools\n",
    "    # If the latest message (result) from assistant is a not a tool call -> tools_condition routes to END\n",
    "    tools_condition\n",
    ")\n",
    "builder.add_edge(\"tools\",\"tool_calling_llm\")\n",
    "\n",
    "## compile the graph\n",
    "graph=builder.compile()\n",
    "\n",
    "from IPython.display import Image, display\n",
    "display(Image(graph.get_graph().draw_mermaid_png()))"
   ]
  },
  {
   "cell_type": "code",
   "execution_count": 25,
   "id": "9749684a",
   "metadata": {},
   "outputs": [
    {
     "name": "stdout",
     "output_type": "stream",
     "text": [
      "================================\u001b[1m Human Message \u001b[0m=================================\n",
      "\n",
      "Give me the recent ai news and then multiply 5 by 10\n",
      "==================================\u001b[1m Ai Message \u001b[0m==================================\n",
      "Tool Calls:\n",
      "  tavily_search (zw994xqcc)\n",
      " Call ID: zw994xqcc\n",
      "  Args:\n",
      "    query: recent ai news\n",
      "    search_depth: advanced\n",
      "    topic: news\n",
      "=================================\u001b[1m Tool Message \u001b[0m=================================\n",
      "Name: tavily_search\n",
      "\n",
      "{\"query\": \"recent ai news\", \"follow_up_questions\": null, \"answer\": null, \"images\": [], \"results\": [{\"url\": \"https://nypost.com/2025/07/02/business/chinese-tech-firms-are-gaining-fast-on-silicon-valley-in-ai-race-report/\", \"title\": \"Chinese tech firms are gaining fast on Silicon Valley in AI race: report - nypost.com\", \"score\": 0.6615081, \"published_date\": \"Wed, 02 Jul 2025 18:39:00 GMT\", \"content\": \"Global banking giants HSBC and Standard Chartered have launched internal testing of the Chinese model, while Saudi Aramco, the world’s largest oil company, recently installed the bot in its main data center, according to the Journal.\\n\\nAmerican tech giants like Amazon Web Services, Microsoft and Google offer DeepSeek to customers – even as the Trump administration has banned the use of the Chinese model on government devices.\", \"raw_content\": null}, {\"url\": \"https://techxplore.com/news/2025-07-ai-robots-weed-killers-farm.html\", \"title\": \"AI robots fill in for weed killers and farm hands - Tech Xplore\", \"score\": 0.657561, \"published_date\": \"Sun, 06 Jul 2025 09:31:07 GMT\", \"content\": \"AI voice assistant Jul 4, 2025Image 11 ##### AI designs new underwater gliders with shapes inspired by marine animals Jul 4, 2025Image 12 ##### Space-based experiments show wax-filled heat sinks keep electronics cooler for longer Jul 3, 2025Image 13 ##### ReSURF: Stretchable, self-healing water quality sensor enables ultrafast surveillance Jul 3, 2025Image 14 ##### Motor safety: AI-powered warning system enhances capability to uncover hidden faults Jul 3, 2025Image 15 ##### Young children [...] ### Recommended for you Image 22 ##### Researcher develops 'SpeechSSM,' opening up possibilities for a 24-hour AI voice assistant Jul 4, 2025Image 23 ##### Robotic probe quickly measures semiconductor properties to accelerate solar panel development Jul 4, 2025Image 24 ##### Pilot program integrates AI-generated notes with human community notes on X platform Jul 4, 2025 Image 25 ##### AI designs new underwater gliders with shapes inspired by marine animals Jul 4, 2025Image 26 ##### Playing\", \"raw_content\": null}], \"response_time\": 16.01}\n",
      "==================================\u001b[1m Ai Message \u001b[0m==================================\n",
      "Tool Calls:\n",
      "  multiply (emjytp70d)\n",
      " Call ID: emjytp70d\n",
      "  Args:\n",
      "    a: 5\n",
      "    b: 10\n",
      "=================================\u001b[1m Tool Message \u001b[0m=================================\n",
      "Name: multiply\n",
      "\n",
      "50\n",
      "==================================\u001b[1m Ai Message \u001b[0m==================================\n",
      "\n",
      "Recent AI news: Chinese tech firms are gaining fast on Silicon Valley in AI race: report - nypost.com, AI robots fill in for weed killers and farm hands - Tech Xplore\n",
      "\n",
      "Multiply 5 by 10: 50\n"
     ]
    }
   ],
   "source": [
    "response=graph.invoke({\"messages\":\"Give me the recent ai news and then multiply 5 by 10\"})\n",
    "for m in response['messages']:\n",
    "    m.pretty_print()"
   ]
  },
  {
   "cell_type": "markdown",
   "id": "3fb80059",
   "metadata": {},
   "source": [
    "## Adding Memory In Agentic Graph"
   ]
  },
  {
   "cell_type": "code",
   "execution_count": 26,
   "id": "0249955f",
   "metadata": {},
   "outputs": [
    {
     "name": "stdout",
     "output_type": "stream",
     "text": [
      "================================\u001b[1m Human Message \u001b[0m=================================\n",
      "\n",
      "Hello my name is Suraj kumar\n",
      "==================================\u001b[1m Ai Message \u001b[0m==================================\n",
      "Tool Calls:\n",
      "  multiply (rnt842znz)\n",
      " Call ID: rnt842znz\n",
      "  Args:\n",
      "    a: 1\n",
      "    b: 0\n",
      "=================================\u001b[1m Tool Message \u001b[0m=================================\n",
      "Name: multiply\n",
      "\n",
      "0\n",
      "==================================\u001b[1m Ai Message \u001b[0m==================================\n",
      "Tool Calls:\n",
      "  tavily_search (y6z4tegtj)\n",
      " Call ID: y6z4tegtj\n",
      "  Args:\n",
      "    query: who is Suraj Kumar\n",
      "    search_depth: advanced\n",
      "    time_range: None\n",
      "    topic: general\n",
      "=================================\u001b[1m Tool Message \u001b[0m=================================\n",
      "Name: tavily_search\n",
      "\n",
      "{\"query\": \"who is Suraj Kumar\", \"follow_up_questions\": null, \"answer\": null, \"images\": [], \"results\": [{\"url\": \"https://en.wikipedia.org/wiki/Kumar_Suraj\", \"title\": \"Kumar Suraj - Wikipedia\", \"content\": \"Wikipedia\\n\\n# Kumar Suraj\\n\\nKumar Suraj (born 16 March 1997) is an Indian cricketer. In November 2019, he was named in India's squad for the 2019 ACC Emerging Teams Asia Cup in Bangladesh. He made his List A debut for India, against Hong Kong, in the Emerging Teams Cup on 18 November 2019. He made his first-class debut on 11 January 2020, for Jharkhand in the 2019–20 Ranji Trophy. He made his Twenty20 debut on 12 January 2021, for Jharkhand in the 2020–21 Syed Mushtaq Ali Trophy.\\n\\nKumar Suraj [...] | Personal information | |\\n| --- | --- |\\n| Full name | Kumar Suraj Prasad |\\n| Born | (1997-03-16) 16 March 1997 (age 28) Jamshedpur, Jharkhand, India |\\n| Batting | Left-handed |\\n| Domestic team information | |\\n| Years | Team |\\n| 2019 | India Emerging Team |\\n| 2020-present | Jharkhand |\\n|  | |\\n| Career statistics | | [...] | Competition | FC | LA | T20 |\\n| --- | --- | --- | --- |\\n| Matches | 5 | 3 | 2 |\\n| Runs scored | 457 | 14 | 6 |\\n| Batting average \\\"Batting average (cricket)\\\") | 57.12 | 7.00 | 3.00 |\\n| 100s/50s | 2/2 | 0/0 | 0/0 |\\n| Top score | 107 | 10 | 5 |\\n| Catches/stumpings | 1/– | –/– | 4/– |\\n\\n## References\\n\\n## External links\\n\\n|  |  |\\n| --- | --- |\\n| Stub icon 1 Stub icon 2 | This biographical article related to an Indian cricket person born in 1997 is a stub. You can help Wikipedia by expanding it. |\", \"score\": 0.92091084, \"raw_content\": null}, {\"url\": \"https://en.wikipedia.org/wiki/Suraj_Kumar\", \"title\": \"Suraj Kumar - Wikipedia\", \"content\": \"| Competition | ODI | T20I | LA | T20 |\\n| --- | --- | --- | --- | --- |\\n| Matches | 20 | 17 | 28 | 17 |\\n| Runs scored | 328 | 109 | 524 | 109 |\\n| Batting average \\\"Batting average (cricket)\\\") | 25.23 | 12.11 | 27.57 | 12.22 |\\n| 100s/50s | 0/2 | 0/0 | 0/5 | 0/0 |\\n| Top score | 62\\\\ | 42\\\\ | 70 | 42\\\\ |\\n| Catches/stumpings | 16/2 | 7/2 | 26/4 | 7/2 |\\n\\nSuraj Kumar (born 29 November 1988) is an Indian-born cricketer who plays as a wicketkeeper-batsman for the Oman national cricket team.\\n\\n## Early life [...] Wikipedia\\nThe Free Encyclopedia\\n\\n## Contents\\n\\n# Suraj Kumar\\n\\nSuraj Kumar [...] | Personal information | |\\n| --- | --- |\\n| Born | (1988-11-29) 29 November 1988 (age 36) Jalandhar, Punjab, India |\\n| Batting | Right-handed |\\n| Role | Wicketkeeper-batsman |\\n| International information | |\\n| National side |  Oman |\\n| ODI debut (cap 10) | 27 April 2019 v Namibia |\\n| Last ODI | 12 June 2022 v USA |\\n| T20I debut (cap 26) | 5 October 2019 v Hong Kong |\\n| Last T20I | 21 October 2021 v Scotland |\\n|  | |\\n| Career statistics | |\", \"score\": 0.9088853, \"raw_content\": null}], \"response_time\": 2.56}\n",
      "==================================\u001b[1m Ai Message \u001b[0m==================================\n",
      "Tool Calls:\n",
      "  multiply (zn7gxmygn)\n",
      " Call ID: zn7gxmygn\n",
      "  Args:\n",
      "    a: 0\n",
      "    b: 328\n",
      "=================================\u001b[1m Tool Message \u001b[0m=================================\n",
      "Name: multiply\n",
      "\n",
      "0\n",
      "==================================\u001b[1m Ai Message \u001b[0m==================================\n",
      "\n",
      "Based on the result, I can respond directly without using any tools.\n",
      "\n",
      "Here's the response:\n",
      "\n",
      "Kumar Suraj is an Indian cricketer born on March 16, 1997. He has played for the India Emerging Team and Jharkhand in various domestic and international cricket tournaments.\n",
      "\n",
      "Please let me know if you would like to know more about him or if there's anything else I can help you with.\n"
     ]
    }
   ],
   "source": [
    "response=graph.invoke({\"messages\":\"Hello my name is Suraj kumar\"})\n",
    "for m in response['messages']:\n",
    "    m.pretty_print()"
   ]
  },
  {
   "cell_type": "code",
   "execution_count": 27,
   "id": "e852099b",
   "metadata": {},
   "outputs": [
    {
     "name": "stdout",
     "output_type": "stream",
     "text": [
      "================================\u001b[1m Human Message \u001b[0m=================================\n",
      "\n",
      "What is my name\n",
      "==================================\u001b[1m Ai Message \u001b[0m==================================\n",
      "\n",
      "/tool-use>\n",
      "{\n",
      "  \"tool_calls\": [\n",
      "    {\n",
      "      \"id\": \"pending\",\n",
      "      \"type\": \"function\",\n",
      "      \"function\": {\n",
      "        \"name\": \"multiply\"\n",
      "      },\n",
      "      \"parameters\": {\n",
      "        \"a\": 0,\n",
      "        \"b\": 1\n",
      "      }\n",
      "    }\n",
      "  ]\n",
      "}</tool-use>\n"
     ]
    }
   ],
   "source": [
    "response=graph.invoke({\"messages\":\"What is my name\"})\n",
    "for m in response['messages']:\n",
    "    m.pretty_print()"
   ]
  },
  {
   "cell_type": "code",
   "execution_count": 24,
   "id": "4bf6c416",
   "metadata": {},
   "outputs": [
    {
     "data": {
      "image/png": "[encoded data removed]",
      "text/plain": [
       "<IPython.core.display.Image object>"
      ]
     },
     "metadata": {},
     "output_type": "display_data"
    }
   ],
   "source": [
    "## Stategraph\n",
    "from langgraph.graph import StateGraph,START,END\n",
    "from langgraph.prebuilt import ToolNode\n",
    "from langgraph.prebuilt import tools_condition\n",
    "from langgraph.checkpoint.memory import MemorySaver\n",
    "\n",
    "memory = MemorySaver()\n",
    "\n",
    "## Node definition\n",
    "def tool_calling_llm(state:State):\n",
    "    return {\"messages\":[llm_with_tool.invoke(state[\"messages\"])]}\n",
    "\n",
    "## Grpah\n",
    "builder=StateGraph(State)\n",
    "builder.add_node(\"tool_calling_llm\",tool_calling_llm)\n",
    "builder.add_node(\"tools\",ToolNode(tools))\n",
    "\n",
    "## Add Edges\n",
    "builder.add_edge(START, \"tool_calling_llm\")\n",
    "builder.add_conditional_edges(\n",
    "    \"tool_calling_llm\",\n",
    "    # If the latest message (result) from assistant is a tool call -> tools_condition routes to tools\n",
    "    # If the latest message (result) from assistant is a not a tool call -> tools_condition routes to END\n",
    "    tools_condition\n",
    ")\n",
    "builder.add_edge(\"tools\",\"tool_calling_llm\")\n",
    "\n",
    "## compile the graph\n",
    "graph=builder.compile(checkpointer=memory)\n",
    "\n",
    "from IPython.display import Image, display\n",
    "display(Image(graph.get_graph().draw_mermaid_png()))"
   ]
  },
  {
   "cell_type": "code",
   "execution_count": 25,
   "id": "426b9240",
   "metadata": {},
   "outputs": [
    {
     "data": {
      "text/plain": [
       "{'messages': [HumanMessage(content='Hi my name is Krish', additional_kwargs={}, response_metadata={}, id='e55bf5c4-e660-4919-ab56-053030ab687d'),\n",
       "  AIMessage(content='Nice to meet you, Krish! Is there something I can help you with or would you like to chat?', additional_kwargs={}, response_metadata={'token_usage': {'completion_tokens': 23, 'prompt_tokens': 2193, 'total_tokens': 2216, 'completion_time': 0.033208577, 'prompt_time': 0.489441871, 'queue_time': 3.1984534190000002, 'total_time': 0.522650448}, 'model_name': 'llama3-8b-8192', 'system_fingerprint': 'fp_8b7c3a83f7', 'finish_reason': 'stop', 'logprobs': None}, id='run--b6cac6ef-4b1a-4ece-b1ed-fad73ad85355-0', usage_metadata={'input_tokens': 2193, 'output_tokens': 23, 'total_tokens': 2216})]}"
      ]
     },
     "execution_count": 25,
     "metadata": {},
     "output_type": "execute_result"
    }
   ],
   "source": [
    "config={\"configurable\":{\"thread_id\":\"1\"}}\n",
    "\n",
    "response=graph.invoke({\"messages\":\"Hi my name is Krish\"},config=config)\n",
    "\n",
    "response\n",
    "\n"
   ]
  },
  {
   "cell_type": "code",
   "execution_count": 27,
   "id": "904463e8",
   "metadata": {},
   "outputs": [
    {
     "data": {
      "text/plain": [
       "'Nice to meet you, Krish! Is there something I can help you with or would you like to chat?'"
      ]
     },
     "execution_count": 27,
     "metadata": {},
     "output_type": "execute_result"
    }
   ],
   "source": [
    "response['messages'][-1].content"
   ]
  },
  {
   "cell_type": "code",
   "execution_count": 28,
   "id": "363227cb",
   "metadata": {},
   "outputs": [
    {
     "name": "stdout",
     "output_type": "stream",
     "text": [
      "Your name is Krish.\n"
     ]
    }
   ],
   "source": [
    "response=graph.invoke({\"messages\":\"Hey what is my name\"},config=config)\n",
    "\n",
    "print(response['messages'][-1].content)"
   ]
  },
  {
   "cell_type": "code",
   "execution_count": 30,
   "id": "d53567d2",
   "metadata": {},
   "outputs": [
    {
     "name": "stdout",
     "output_type": "stream",
     "text": [
      "Your name is Krish, right?\n"
     ]
    }
   ],
   "source": [
    "response=graph.invoke({\"messages\":\"Hey do you remember mmy name\"},config=config)\n",
    "\n",
    "print(response['messages'][-1].content)"
   ]
  },
  {
   "cell_type": "markdown",
   "id": "ac7b3d4d",
   "metadata": {},
   "source": [
    "### Streaming"
   ]
  },
  {
   "cell_type": "code",
   "execution_count": 44,
   "id": "29fe2fbf",
   "metadata": {},
   "outputs": [],
   "source": [
    "from langgraph.checkpoint.memory import MemorySaver\n",
    "memory=MemorySaver()"
   ]
  },
  {
   "cell_type": "code",
   "execution_count": 45,
   "id": "5bca6fc4",
   "metadata": {},
   "outputs": [],
   "source": [
    "def superbot(state:State):\n",
    "    return {\"messages\":[llm.invoke(state['messages'])]}"
   ]
  },
  {
   "cell_type": "code",
   "execution_count": 46,
   "id": "433922c6",
   "metadata": {},
   "outputs": [
    {
     "data": {
      "image/png": "[encoded data removed]",
      "text/plain": [
       "<IPython.core.display.Image object>"
      ]
     },
     "metadata": {},
     "output_type": "display_data"
    }
   ],
   "source": [
    "graph=StateGraph(State)\n",
    "\n",
    "## node\n",
    "graph.add_node(\"SuperBot\",superbot)\n",
    "## Edges\n",
    "\n",
    "graph.add_edge(START,\"SuperBot\")\n",
    "graph.add_edge(\"SuperBot\",END)\n",
    "\n",
    "\n",
    "graph_builder=graph.compile(checkpointer=memory)\n",
    "\n",
    "\n",
    "## Display\n",
    "from IPython.display import Image, display\n",
    "display(Image(graph_builder.get_graph().draw_mermaid_png()))"
   ]
  },
  {
   "cell_type": "code",
   "execution_count": 47,
   "id": "486b24f1",
   "metadata": {},
   "outputs": [
    {
     "data": {
      "text/plain": [
       "{'messages': [HumanMessage(content='Hi,My name is Krish And I like cricket', additional_kwargs={}, response_metadata={}, id='4bbd93a6-5c99-476d-af9b-2542f400b2be'),\n",
       "  AIMessage(content=\"Hi Krish! Nice to meet you! Cricket is a great sport, isn't it? Who's your favorite cricketer or team? Do you play cricket yourself or just enjoy watching and following the game?\", additional_kwargs={}, response_metadata={'token_usage': {'completion_tokens': 43, 'prompt_tokens': 20, 'total_tokens': 63, 'completion_time': 0.103689851, 'prompt_time': 0.017182506, 'queue_time': 3.3513802249999998, 'total_time': 0.120872357}, 'model_name': 'llama3-8b-8192', 'system_fingerprint': 'fp_8dc6ecaf8e', 'finish_reason': 'stop', 'logprobs': None}, id='run--46e8c88b-782a-438f-9ccc-58ab8668c0bf-0', usage_metadata={'input_tokens': 20, 'output_tokens': 43, 'total_tokens': 63})]}"
      ]
     },
     "execution_count": 47,
     "metadata": {},
     "output_type": "execute_result"
    }
   ],
   "source": [
    "## Invocation\n",
    "\n",
    "config = {\"configurable\": {\"thread_id\": \"1\"}}\n",
    "\n",
    "graph_builder.invoke({'messages':\"Hi,My name is Krish And I like cricket\"},config)"
   ]
  },
  {
   "cell_type": "markdown",
   "id": "2b14a6a0",
   "metadata": {},
   "source": [
    "### Streaming \n",
    "Methods: .stream() and astream()\n",
    "\n",
    "- These methods are sync and async methods for streaming back results.\n",
    "\n",
    "Additional parameters in streaming modes for graph state\n",
    "\n",
    "- **values** : This streams the full state of the graph after each node is called.\n",
    "- **updates** : This streams updates to the state of the graph after each node is called."
   ]
  },
  {
   "cell_type": "code",
   "execution_count": null,
   "id": "32d6ac91",
   "metadata": {},
   "outputs": [
    {
     "name": "stdout",
     "output_type": "stream",
     "text": [
      "{'SuperBot': {'messages': [AIMessage(content=\"Nice to meet you, Krish! It's great to hear that you like cricket! What's your favorite team or player in cricket?\", additional_kwargs={}, response_metadata={'token_usage': {'completion_tokens': 28, 'prompt_tokens': 20, 'total_tokens': 48, 'completion_time': 0.067597787, 'prompt_time': 0.017155746, 'queue_time': 3.961062715, 'total_time': 0.084753533}, 'model_name': 'llama3-8b-8192', 'system_fingerprint': 'fp_8dc6ecaf8e', 'finish_reason': 'stop', 'logprobs': None}, id='run--dd517fd5-951c-4ba1-9af4-e5eddab1c545-0', usage_metadata={'input_tokens': 20, 'output_tokens': 28, 'total_tokens': 48})]}}\n"
     ]
    }
   ],
   "source": [
    "# Create a thread\n",
    "config = {\"configurable\": {\"thread_id\": \"3\"}}\n",
    "\n",
    "for chunk in graph_builder.stream({'messages':\"Hi,My name is Krish And I like cricket\"},config,stream_mode=\"updates\"):\n",
    "    print(chunk)"
   ]
  },
  {
   "cell_type": "code",
   "execution_count": 49,
   "id": "2fefc7c6",
   "metadata": {},
   "outputs": [
    {
     "name": "stdout",
     "output_type": "stream",
     "text": [
      "{'messages': [HumanMessage(content='Hi,My name is Krish And I like cricket', additional_kwargs={}, response_metadata={}, id='2bdefe18-5571-41a9-9c62-59f9b739b6b6'), AIMessage(content=\"Nice to meet you, Krish! It's great to hear that you like cricket! What's your favorite team or player in cricket?\", additional_kwargs={}, response_metadata={'token_usage': {'completion_tokens': 28, 'prompt_tokens': 20, 'total_tokens': 48, 'completion_time': 0.067597787, 'prompt_time': 0.017155746, 'queue_time': 3.961062715, 'total_time': 0.084753533}, 'model_name': 'llama3-8b-8192', 'system_fingerprint': 'fp_8dc6ecaf8e', 'finish_reason': 'stop', 'logprobs': None}, id='run--dd517fd5-951c-4ba1-9af4-e5eddab1c545-0', usage_metadata={'input_tokens': 20, 'output_tokens': 28, 'total_tokens': 48}), HumanMessage(content='Hi,My name is Krish And I like cricket', additional_kwargs={}, response_metadata={}, id='12985285-9873-4723-82c7-3864b7f001e4')]}\n",
      "{'messages': [HumanMessage(content='Hi,My name is Krish And I like cricket', additional_kwargs={}, response_metadata={}, id='2bdefe18-5571-41a9-9c62-59f9b739b6b6'), AIMessage(content=\"Nice to meet you, Krish! It's great to hear that you like cricket! What's your favorite team or player in cricket?\", additional_kwargs={}, response_metadata={'token_usage': {'completion_tokens': 28, 'prompt_tokens': 20, 'total_tokens': 48, 'completion_time': 0.067597787, 'prompt_time': 0.017155746, 'queue_time': 3.961062715, 'total_time': 0.084753533}, 'model_name': 'llama3-8b-8192', 'system_fingerprint': 'fp_8dc6ecaf8e', 'finish_reason': 'stop', 'logprobs': None}, id='run--dd517fd5-951c-4ba1-9af4-e5eddab1c545-0', usage_metadata={'input_tokens': 20, 'output_tokens': 28, 'total_tokens': 48}), HumanMessage(content='Hi,My name is Krish And I like cricket', additional_kwargs={}, response_metadata={}, id='12985285-9873-4723-82c7-3864b7f001e4'), AIMessage(content=\"Nice to meet you, Krish! It's great to hear that you like cricket! What's your favorite team or player in cricket?\", additional_kwargs={}, response_metadata={'token_usage': {'completion_tokens': 28, 'prompt_tokens': 67, 'total_tokens': 95, 'completion_time': 0.046937595, 'prompt_time': 0.025860729, 'queue_time': 0.376788149, 'total_time': 0.072798324}, 'model_name': 'llama3-8b-8192', 'system_fingerprint': 'fp_8dc6ecaf8e', 'finish_reason': 'stop', 'logprobs': None}, id='run--1b91f3ce-46fa-4840-855e-87b9b2d004db-0', usage_metadata={'input_tokens': 67, 'output_tokens': 28, 'total_tokens': 95})]}\n"
     ]
    }
   ],
   "source": [
    "for chunk in graph_builder.stream({'messages':\"Hi,My name is Krish And I like cricket\"},config,stream_mode=\"values\"):\n",
    "    print(chunk)"
   ]
  },
  {
   "cell_type": "code",
   "execution_count": 50,
   "id": "2306108c",
   "metadata": {},
   "outputs": [
    {
     "name": "stdout",
     "output_type": "stream",
     "text": [
      "{'SuperBot': {'messages': [AIMessage(content=\"Hello Krish! Nice to meet you! It's great to know that you like cricket! Which team do you support?\", additional_kwargs={}, response_metadata={'token_usage': {'completion_tokens': 25, 'prompt_tokens': 20, 'total_tokens': 45, 'completion_time': 0.041678799, 'prompt_time': 0.017140167, 'queue_time': 5.561800282, 'total_time': 0.058818966}, 'model_name': 'llama3-8b-8192', 'system_fingerprint': 'fp_8dc6ecaf8e', 'finish_reason': 'stop', 'logprobs': None}, id='run--e14c0aff-5759-4df1-9ec3-def7a3a150dd-0', usage_metadata={'input_tokens': 20, 'output_tokens': 25, 'total_tokens': 45})]}}\n"
     ]
    }
   ],
   "source": [
    "# Create a thread\n",
    "config = {\"configurable\": {\"thread_id\": \"4\"}}\n",
    "\n",
    "for chunk in graph_builder.stream({'messages':\"Hi,My name is Krish And I like cricket\"},config,stream_mode=\"updates\"):\n",
    "    print(chunk)"
   ]
  },
  {
   "cell_type": "code",
   "execution_count": 51,
   "id": "321c88bc",
   "metadata": {},
   "outputs": [
    {
     "name": "stdout",
     "output_type": "stream",
     "text": [
      "{'messages': [HumanMessage(content='Hi,My name is Krish And I like cricket', additional_kwargs={}, response_metadata={}, id='28871637-a931-4c6d-a84b-5219d4aaf9c5'), AIMessage(content=\"Hello Krish! Nice to meet you! It's great to know that you like cricket! Which team do you support?\", additional_kwargs={}, response_metadata={'token_usage': {'completion_tokens': 25, 'prompt_tokens': 20, 'total_tokens': 45, 'completion_time': 0.041678799, 'prompt_time': 0.017140167, 'queue_time': 5.561800282, 'total_time': 0.058818966}, 'model_name': 'llama3-8b-8192', 'system_fingerprint': 'fp_8dc6ecaf8e', 'finish_reason': 'stop', 'logprobs': None}, id='run--e14c0aff-5759-4df1-9ec3-def7a3a150dd-0', usage_metadata={'input_tokens': 20, 'output_tokens': 25, 'total_tokens': 45}), HumanMessage(content='I also like football', additional_kwargs={}, response_metadata={}, id='cdc89c65-01b1-4ccf-ab6a-48aed71fefd4')]}\n",
      "{'messages': [HumanMessage(content='Hi,My name is Krish And I like cricket', additional_kwargs={}, response_metadata={}, id='28871637-a931-4c6d-a84b-5219d4aaf9c5'), AIMessage(content=\"Hello Krish! Nice to meet you! It's great to know that you like cricket! Which team do you support?\", additional_kwargs={}, response_metadata={'token_usage': {'completion_tokens': 25, 'prompt_tokens': 20, 'total_tokens': 45, 'completion_time': 0.041678799, 'prompt_time': 0.017140167, 'queue_time': 5.561800282, 'total_time': 0.058818966}, 'model_name': 'llama3-8b-8192', 'system_fingerprint': 'fp_8dc6ecaf8e', 'finish_reason': 'stop', 'logprobs': None}, id='run--e14c0aff-5759-4df1-9ec3-def7a3a150dd-0', usage_metadata={'input_tokens': 20, 'output_tokens': 25, 'total_tokens': 45}), HumanMessage(content='I also like football', additional_kwargs={}, response_metadata={}, id='cdc89c65-01b1-4ccf-ab6a-48aed71fefd4'), AIMessage(content=\"A sports fan with diverse interests! That's awesome, Krish! Football and cricket are two of the most popular sports in the world, and it's great that you enjoy both.\\n\\nDo you have a favorite football team or player? And similarly, do you have a favorite cricketer or team?\", additional_kwargs={}, response_metadata={'token_usage': {'completion_tokens': 61, 'prompt_tokens': 58, 'total_tokens': 119, 'completion_time': 0.096853191, 'prompt_time': 0.046696348, 'queue_time': 8.785236603000001, 'total_time': 0.143549539}, 'model_name': 'llama3-8b-8192', 'system_fingerprint': 'fp_8dc6ecaf8e', 'finish_reason': 'stop', 'logprobs': None}, id='run--2e1e33f8-2348-432d-bf8c-dc08033d3ff1-0', usage_metadata={'input_tokens': 58, 'output_tokens': 61, 'total_tokens': 119})]}\n"
     ]
    }
   ],
   "source": [
    "for chunk in graph_builder.stream({'messages':\"I also like football\"},config,stream_mode=\"values\"):\n",
    "    print(chunk)"
   ]
  },
  {
   "cell_type": "code",
   "execution_count": 52,
   "id": "57e296a1",
   "metadata": {},
   "outputs": [
    {
     "name": "stdout",
     "output_type": "stream",
     "text": [
      "{'event': 'on_chain_start', 'data': {'input': {'messages': ['Hi My name is Krish and I like to play cricket']}}, 'name': 'LangGraph', 'tags': [], 'run_id': 'fc9179e8-7f2a-40ea-86d8-80d86b0ab3b6', 'metadata': {'thread_id': '5'}, 'parent_ids': []}\n",
      "{'event': 'on_chain_start', 'data': {'input': {'messages': [HumanMessage(content='Hi My name is Krish and I like to play cricket', additional_kwargs={}, response_metadata={}, id='5cbc8727-5339-4a8a-9d63-09267608e1af')]}}, 'name': 'SuperBot', 'tags': ['graph:step:1'], 'run_id': '8108e5d5-e6eb-44a0-8057-41b3e38e8eef', 'metadata': {'thread_id': '5', 'langgraph_step': 1, 'langgraph_node': 'SuperBot', 'langgraph_triggers': ('branch:to:SuperBot',), 'langgraph_path': ('__pregel_pull', 'SuperBot'), 'langgraph_checkpoint_ns': 'SuperBot:81dc6040-44c3-d3b6-96a8-292b5d7a3caa'}, 'parent_ids': ['fc9179e8-7f2a-40ea-86d8-80d86b0ab3b6']}\n",
      "{'event': 'on_chat_model_start', 'data': {'input': {'messages': [[HumanMessage(content='Hi My name is Krish and I like to play cricket', additional_kwargs={}, response_metadata={}, id='5cbc8727-5339-4a8a-9d63-09267608e1af')]]}}, 'name': 'ChatGroq', 'tags': ['seq:step:1'], 'run_id': 'df1ba13a-42a0-4ccc-b173-a881ab65ed1b', 'metadata': {'thread_id': '5', 'langgraph_step': 1, 'langgraph_node': 'SuperBot', 'langgraph_triggers': ('branch:to:SuperBot',), 'langgraph_path': ('__pregel_pull', 'SuperBot'), 'langgraph_checkpoint_ns': 'SuperBot:81dc6040-44c3-d3b6-96a8-292b5d7a3caa', 'checkpoint_ns': 'SuperBot:81dc6040-44c3-d3b6-96a8-292b5d7a3caa', 'ls_provider': 'groq', 'ls_model_name': 'llama3-8b-8192', 'ls_model_type': 'chat', 'ls_temperature': 0.7}, 'parent_ids': ['fc9179e8-7f2a-40ea-86d8-80d86b0ab3b6', '8108e5d5-e6eb-44a0-8057-41b3e38e8eef']}\n",
      "{'event': 'on_chat_model_stream', 'data': {'chunk': AIMessageChunk(content='', additional_kwargs={}, response_metadata={}, id='run--df1ba13a-42a0-4ccc-b173-a881ab65ed1b')}, 'run_id': 'df1ba13a-42a0-4ccc-b173-a881ab65ed1b', 'name': 'ChatGroq', 'tags': ['seq:step:1'], 'metadata': {'thread_id': '5', 'langgraph_step': 1, 'langgraph_node': 'SuperBot', 'langgraph_triggers': ('branch:to:SuperBot',), 'langgraph_path': ('__pregel_pull', 'SuperBot'), 'langgraph_checkpoint_ns': 'SuperBot:81dc6040-44c3-d3b6-96a8-292b5d7a3caa', 'checkpoint_ns': 'SuperBot:81dc6040-44c3-d3b6-96a8-292b5d7a3caa', 'ls_provider': 'groq', 'ls_model_name': 'llama3-8b-8192', 'ls_model_type': 'chat', 'ls_temperature': 0.7}, 'parent_ids': ['fc9179e8-7f2a-40ea-86d8-80d86b0ab3b6', '8108e5d5-e6eb-44a0-8057-41b3e38e8eef']}\n",
      "{'event': 'on_chat_model_stream', 'data': {'chunk': AIMessageChunk(content='Nice', additional_kwargs={}, response_metadata={}, id='run--df1ba13a-42a0-4ccc-b173-a881ab65ed1b')}, 'run_id': 'df1ba13a-42a0-4ccc-b173-a881ab65ed1b', 'name': 'ChatGroq', 'tags': ['seq:step:1'], 'metadata': {'thread_id': '5', 'langgraph_step': 1, 'langgraph_node': 'SuperBot', 'langgraph_triggers': ('branch:to:SuperBot',), 'langgraph_path': ('__pregel_pull', 'SuperBot'), 'langgraph_checkpoint_ns': 'SuperBot:81dc6040-44c3-d3b6-96a8-292b5d7a3caa', 'checkpoint_ns': 'SuperBot:81dc6040-44c3-d3b6-96a8-292b5d7a3caa', 'ls_provider': 'groq', 'ls_model_name': 'llama3-8b-8192', 'ls_model_type': 'chat', 'ls_temperature': 0.7}, 'parent_ids': ['fc9179e8-7f2a-40ea-86d8-80d86b0ab3b6', '8108e5d5-e6eb-44a0-8057-41b3e38e8eef']}\n",
      "{'event': 'on_chat_model_stream', 'data': {'chunk': AIMessageChunk(content=' to', additional_kwargs={}, response_metadata={}, id='run--df1ba13a-42a0-4ccc-b173-a881ab65ed1b')}, 'run_id': 'df1ba13a-42a0-4ccc-b173-a881ab65ed1b', 'name': 'ChatGroq', 'tags': ['seq:step:1'], 'metadata': {'thread_id': '5', 'langgraph_step': 1, 'langgraph_node': 'SuperBot', 'langgraph_triggers': ('branch:to:SuperBot',), 'langgraph_path': ('__pregel_pull', 'SuperBot'), 'langgraph_checkpoint_ns': 'SuperBot:81dc6040-44c3-d3b6-96a8-292b5d7a3caa', 'checkpoint_ns': 'SuperBot:81dc6040-44c3-d3b6-96a8-292b5d7a3caa', 'ls_provider': 'groq', 'ls_model_name': 'llama3-8b-8192', 'ls_model_type': 'chat', 'ls_temperature': 0.7}, 'parent_ids': ['fc9179e8-7f2a-40ea-86d8-80d86b0ab3b6', '8108e5d5-e6eb-44a0-8057-41b3e38e8eef']}\n",
      "{'event': 'on_chat_model_stream', 'data': {'chunk': AIMessageChunk(content=' meet', additional_kwargs={}, response_metadata={}, id='run--df1ba13a-42a0-4ccc-b173-a881ab65ed1b')}, 'run_id': 'df1ba13a-42a0-4ccc-b173-a881ab65ed1b', 'name': 'ChatGroq', 'tags': ['seq:step:1'], 'metadata': {'thread_id': '5', 'langgraph_step': 1, 'langgraph_node': 'SuperBot', 'langgraph_triggers': ('branch:to:SuperBot',), 'langgraph_path': ('__pregel_pull', 'SuperBot'), 'langgraph_checkpoint_ns': 'SuperBot:81dc6040-44c3-d3b6-96a8-292b5d7a3caa', 'checkpoint_ns': 'SuperBot:81dc6040-44c3-d3b6-96a8-292b5d7a3caa', 'ls_provider': 'groq', 'ls_model_name': 'llama3-8b-8192', 'ls_model_type': 'chat', 'ls_temperature': 0.7}, 'parent_ids': ['fc9179e8-7f2a-40ea-86d8-80d86b0ab3b6', '8108e5d5-e6eb-44a0-8057-41b3e38e8eef']}\n",
      "{'event': 'on_chat_model_stream', 'data': {'chunk': AIMessageChunk(content=' you', additional_kwargs={}, response_metadata={}, id='run--df1ba13a-42a0-4ccc-b173-a881ab65ed1b')}, 'run_id': 'df1ba13a-42a0-4ccc-b173-a881ab65ed1b', 'name': 'ChatGroq', 'tags': ['seq:step:1'], 'metadata': {'thread_id': '5', 'langgraph_step': 1, 'langgraph_node': 'SuperBot', 'langgraph_triggers': ('branch:to:SuperBot',), 'langgraph_path': ('__pregel_pull', 'SuperBot'), 'langgraph_checkpoint_ns': 'SuperBot:81dc6040-44c3-d3b6-96a8-292b5d7a3caa', 'checkpoint_ns': 'SuperBot:81dc6040-44c3-d3b6-96a8-292b5d7a3caa', 'ls_provider': 'groq', 'ls_model_name': 'llama3-8b-8192', 'ls_model_type': 'chat', 'ls_temperature': 0.7}, 'parent_ids': ['fc9179e8-7f2a-40ea-86d8-80d86b0ab3b6', '8108e5d5-e6eb-44a0-8057-41b3e38e8eef']}\n",
      "{'event': 'on_chat_model_stream', 'data': {'chunk': AIMessageChunk(content=',', additional_kwargs={}, response_metadata={}, id='run--df1ba13a-42a0-4ccc-b173-a881ab65ed1b')}, 'run_id': 'df1ba13a-42a0-4ccc-b173-a881ab65ed1b', 'name': 'ChatGroq', 'tags': ['seq:step:1'], 'metadata': {'thread_id': '5', 'langgraph_step': 1, 'langgraph_node': 'SuperBot', 'langgraph_triggers': ('branch:to:SuperBot',), 'langgraph_path': ('__pregel_pull', 'SuperBot'), 'langgraph_checkpoint_ns': 'SuperBot:81dc6040-44c3-d3b6-96a8-292b5d7a3caa', 'checkpoint_ns': 'SuperBot:81dc6040-44c3-d3b6-96a8-292b5d7a3caa', 'ls_provider': 'groq', 'ls_model_name': 'llama3-8b-8192', 'ls_model_type': 'chat', 'ls_temperature': 0.7}, 'parent_ids': ['fc9179e8-7f2a-40ea-86d8-80d86b0ab3b6', '8108e5d5-e6eb-44a0-8057-41b3e38e8eef']}\n",
      "{'event': 'on_chat_model_stream', 'data': {'chunk': AIMessageChunk(content=' Krish', additional_kwargs={}, response_metadata={}, id='run--df1ba13a-42a0-4ccc-b173-a881ab65ed1b')}, 'run_id': 'df1ba13a-42a0-4ccc-b173-a881ab65ed1b', 'name': 'ChatGroq', 'tags': ['seq:step:1'], 'metadata': {'thread_id': '5', 'langgraph_step': 1, 'langgraph_node': 'SuperBot', 'langgraph_triggers': ('branch:to:SuperBot',), 'langgraph_path': ('__pregel_pull', 'SuperBot'), 'langgraph_checkpoint_ns': 'SuperBot:81dc6040-44c3-d3b6-96a8-292b5d7a3caa', 'checkpoint_ns': 'SuperBot:81dc6040-44c3-d3b6-96a8-292b5d7a3caa', 'ls_provider': 'groq', 'ls_model_name': 'llama3-8b-8192', 'ls_model_type': 'chat', 'ls_temperature': 0.7}, 'parent_ids': ['fc9179e8-7f2a-40ea-86d8-80d86b0ab3b6', '8108e5d5-e6eb-44a0-8057-41b3e38e8eef']}\n",
      "{'event': 'on_chat_model_stream', 'data': {'chunk': AIMessageChunk(content='!', additional_kwargs={}, response_metadata={}, id='run--df1ba13a-42a0-4ccc-b173-a881ab65ed1b')}, 'run_id': 'df1ba13a-42a0-4ccc-b173-a881ab65ed1b', 'name': 'ChatGroq', 'tags': ['seq:step:1'], 'metadata': {'thread_id': '5', 'langgraph_step': 1, 'langgraph_node': 'SuperBot', 'langgraph_triggers': ('branch:to:SuperBot',), 'langgraph_path': ('__pregel_pull', 'SuperBot'), 'langgraph_checkpoint_ns': 'SuperBot:81dc6040-44c3-d3b6-96a8-292b5d7a3caa', 'checkpoint_ns': 'SuperBot:81dc6040-44c3-d3b6-96a8-292b5d7a3caa', 'ls_provider': 'groq', 'ls_model_name': 'llama3-8b-8192', 'ls_model_type': 'chat', 'ls_temperature': 0.7}, 'parent_ids': ['fc9179e8-7f2a-40ea-86d8-80d86b0ab3b6', '8108e5d5-e6eb-44a0-8057-41b3e38e8eef']}\n",
      "{'event': 'on_chat_model_stream', 'data': {'chunk': AIMessageChunk(content=' That', additional_kwargs={}, response_metadata={}, id='run--df1ba13a-42a0-4ccc-b173-a881ab65ed1b')}, 'run_id': 'df1ba13a-42a0-4ccc-b173-a881ab65ed1b', 'name': 'ChatGroq', 'tags': ['seq:step:1'], 'metadata': {'thread_id': '5', 'langgraph_step': 1, 'langgraph_node': 'SuperBot', 'langgraph_triggers': ('branch:to:SuperBot',), 'langgraph_path': ('__pregel_pull', 'SuperBot'), 'langgraph_checkpoint_ns': 'SuperBot:81dc6040-44c3-d3b6-96a8-292b5d7a3caa', 'checkpoint_ns': 'SuperBot:81dc6040-44c3-d3b6-96a8-292b5d7a3caa', 'ls_provider': 'groq', 'ls_model_name': 'llama3-8b-8192', 'ls_model_type': 'chat', 'ls_temperature': 0.7}, 'parent_ids': ['fc9179e8-7f2a-40ea-86d8-80d86b0ab3b6', '8108e5d5-e6eb-44a0-8057-41b3e38e8eef']}\n",
      "{'event': 'on_chat_model_stream', 'data': {'chunk': AIMessageChunk(content=\"'s\", additional_kwargs={}, response_metadata={}, id='run--df1ba13a-42a0-4ccc-b173-a881ab65ed1b')}, 'run_id': 'df1ba13a-42a0-4ccc-b173-a881ab65ed1b', 'name': 'ChatGroq', 'tags': ['seq:step:1'], 'metadata': {'thread_id': '5', 'langgraph_step': 1, 'langgraph_node': 'SuperBot', 'langgraph_triggers': ('branch:to:SuperBot',), 'langgraph_path': ('__pregel_pull', 'SuperBot'), 'langgraph_checkpoint_ns': 'SuperBot:81dc6040-44c3-d3b6-96a8-292b5d7a3caa', 'checkpoint_ns': 'SuperBot:81dc6040-44c3-d3b6-96a8-292b5d7a3caa', 'ls_provider': 'groq', 'ls_model_name': 'llama3-8b-8192', 'ls_model_type': 'chat', 'ls_temperature': 0.7}, 'parent_ids': ['fc9179e8-7f2a-40ea-86d8-80d86b0ab3b6', '8108e5d5-e6eb-44a0-8057-41b3e38e8eef']}\n",
      "{'event': 'on_chat_model_stream', 'data': {'chunk': AIMessageChunk(content=' awesome', additional_kwargs={}, response_metadata={}, id='run--df1ba13a-42a0-4ccc-b173-a881ab65ed1b')}, 'run_id': 'df1ba13a-42a0-4ccc-b173-a881ab65ed1b', 'name': 'ChatGroq', 'tags': ['seq:step:1'], 'metadata': {'thread_id': '5', 'langgraph_step': 1, 'langgraph_node': 'SuperBot', 'langgraph_triggers': ('branch:to:SuperBot',), 'langgraph_path': ('__pregel_pull', 'SuperBot'), 'langgraph_checkpoint_ns': 'SuperBot:81dc6040-44c3-d3b6-96a8-292b5d7a3caa', 'checkpoint_ns': 'SuperBot:81dc6040-44c3-d3b6-96a8-292b5d7a3caa', 'ls_provider': 'groq', 'ls_model_name': 'llama3-8b-8192', 'ls_model_type': 'chat', 'ls_temperature': 0.7}, 'parent_ids': ['fc9179e8-7f2a-40ea-86d8-80d86b0ab3b6', '8108e5d5-e6eb-44a0-8057-41b3e38e8eef']}\n",
      "{'event': 'on_chat_model_stream', 'data': {'chunk': AIMessageChunk(content=' that', additional_kwargs={}, response_metadata={}, id='run--df1ba13a-42a0-4ccc-b173-a881ab65ed1b')}, 'run_id': 'df1ba13a-42a0-4ccc-b173-a881ab65ed1b', 'name': 'ChatGroq', 'tags': ['seq:step:1'], 'metadata': {'thread_id': '5', 'langgraph_step': 1, 'langgraph_node': 'SuperBot', 'langgraph_triggers': ('branch:to:SuperBot',), 'langgraph_path': ('__pregel_pull', 'SuperBot'), 'langgraph_checkpoint_ns': 'SuperBot:81dc6040-44c3-d3b6-96a8-292b5d7a3caa', 'checkpoint_ns': 'SuperBot:81dc6040-44c3-d3b6-96a8-292b5d7a3caa', 'ls_provider': 'groq', 'ls_model_name': 'llama3-8b-8192', 'ls_model_type': 'chat', 'ls_temperature': 0.7}, 'parent_ids': ['fc9179e8-7f2a-40ea-86d8-80d86b0ab3b6', '8108e5d5-e6eb-44a0-8057-41b3e38e8eef']}\n",
      "{'event': 'on_chat_model_stream', 'data': {'chunk': AIMessageChunk(content=' you', additional_kwargs={}, response_metadata={}, id='run--df1ba13a-42a0-4ccc-b173-a881ab65ed1b')}, 'run_id': 'df1ba13a-42a0-4ccc-b173-a881ab65ed1b', 'name': 'ChatGroq', 'tags': ['seq:step:1'], 'metadata': {'thread_id': '5', 'langgraph_step': 1, 'langgraph_node': 'SuperBot', 'langgraph_triggers': ('branch:to:SuperBot',), 'langgraph_path': ('__pregel_pull', 'SuperBot'), 'langgraph_checkpoint_ns': 'SuperBot:81dc6040-44c3-d3b6-96a8-292b5d7a3caa', 'checkpoint_ns': 'SuperBot:81dc6040-44c3-d3b6-96a8-292b5d7a3caa', 'ls_provider': 'groq', 'ls_model_name': 'llama3-8b-8192', 'ls_model_type': 'chat', 'ls_temperature': 0.7}, 'parent_ids': ['fc9179e8-7f2a-40ea-86d8-80d86b0ab3b6', '8108e5d5-e6eb-44a0-8057-41b3e38e8eef']}\n",
      "{'event': 'on_chat_model_stream', 'data': {'chunk': AIMessageChunk(content=' like', additional_kwargs={}, response_metadata={}, id='run--df1ba13a-42a0-4ccc-b173-a881ab65ed1b')}, 'run_id': 'df1ba13a-42a0-4ccc-b173-a881ab65ed1b', 'name': 'ChatGroq', 'tags': ['seq:step:1'], 'metadata': {'thread_id': '5', 'langgraph_step': 1, 'langgraph_node': 'SuperBot', 'langgraph_triggers': ('branch:to:SuperBot',), 'langgraph_path': ('__pregel_pull', 'SuperBot'), 'langgraph_checkpoint_ns': 'SuperBot:81dc6040-44c3-d3b6-96a8-292b5d7a3caa', 'checkpoint_ns': 'SuperBot:81dc6040-44c3-d3b6-96a8-292b5d7a3caa', 'ls_provider': 'groq', 'ls_model_name': 'llama3-8b-8192', 'ls_model_type': 'chat', 'ls_temperature': 0.7}, 'parent_ids': ['fc9179e8-7f2a-40ea-86d8-80d86b0ab3b6', '8108e5d5-e6eb-44a0-8057-41b3e38e8eef']}\n",
      "{'event': 'on_chat_model_stream', 'data': {'chunk': AIMessageChunk(content=' to', additional_kwargs={}, response_metadata={}, id='run--df1ba13a-42a0-4ccc-b173-a881ab65ed1b')}, 'run_id': 'df1ba13a-42a0-4ccc-b173-a881ab65ed1b', 'name': 'ChatGroq', 'tags': ['seq:step:1'], 'metadata': {'thread_id': '5', 'langgraph_step': 1, 'langgraph_node': 'SuperBot', 'langgraph_triggers': ('branch:to:SuperBot',), 'langgraph_path': ('__pregel_pull', 'SuperBot'), 'langgraph_checkpoint_ns': 'SuperBot:81dc6040-44c3-d3b6-96a8-292b5d7a3caa', 'checkpoint_ns': 'SuperBot:81dc6040-44c3-d3b6-96a8-292b5d7a3caa', 'ls_provider': 'groq', 'ls_model_name': 'llama3-8b-8192', 'ls_model_type': 'chat', 'ls_temperature': 0.7}, 'parent_ids': ['fc9179e8-7f2a-40ea-86d8-80d86b0ab3b6', '8108e5d5-e6eb-44a0-8057-41b3e38e8eef']}\n",
      "{'event': 'on_chat_model_stream', 'data': {'chunk': AIMessageChunk(content=' play', additional_kwargs={}, response_metadata={}, id='run--df1ba13a-42a0-4ccc-b173-a881ab65ed1b')}, 'run_id': 'df1ba13a-42a0-4ccc-b173-a881ab65ed1b', 'name': 'ChatGroq', 'tags': ['seq:step:1'], 'metadata': {'thread_id': '5', 'langgraph_step': 1, 'langgraph_node': 'SuperBot', 'langgraph_triggers': ('branch:to:SuperBot',), 'langgraph_path': ('__pregel_pull', 'SuperBot'), 'langgraph_checkpoint_ns': 'SuperBot:81dc6040-44c3-d3b6-96a8-292b5d7a3caa', 'checkpoint_ns': 'SuperBot:81dc6040-44c3-d3b6-96a8-292b5d7a3caa', 'ls_provider': 'groq', 'ls_model_name': 'llama3-8b-8192', 'ls_model_type': 'chat', 'ls_temperature': 0.7}, 'parent_ids': ['fc9179e8-7f2a-40ea-86d8-80d86b0ab3b6', '8108e5d5-e6eb-44a0-8057-41b3e38e8eef']}\n",
      "{'event': 'on_chat_model_stream', 'data': {'chunk': AIMessageChunk(content=' cricket', additional_kwargs={}, response_metadata={}, id='run--df1ba13a-42a0-4ccc-b173-a881ab65ed1b')}, 'run_id': 'df1ba13a-42a0-4ccc-b173-a881ab65ed1b', 'name': 'ChatGroq', 'tags': ['seq:step:1'], 'metadata': {'thread_id': '5', 'langgraph_step': 1, 'langgraph_node': 'SuperBot', 'langgraph_triggers': ('branch:to:SuperBot',), 'langgraph_path': ('__pregel_pull', 'SuperBot'), 'langgraph_checkpoint_ns': 'SuperBot:81dc6040-44c3-d3b6-96a8-292b5d7a3caa', 'checkpoint_ns': 'SuperBot:81dc6040-44c3-d3b6-96a8-292b5d7a3caa', 'ls_provider': 'groq', 'ls_model_name': 'llama3-8b-8192', 'ls_model_type': 'chat', 'ls_temperature': 0.7}, 'parent_ids': ['fc9179e8-7f2a-40ea-86d8-80d86b0ab3b6', '8108e5d5-e6eb-44a0-8057-41b3e38e8eef']}\n",
      "{'event': 'on_chat_model_stream', 'data': {'chunk': AIMessageChunk(content='!', additional_kwargs={}, response_metadata={}, id='run--df1ba13a-42a0-4ccc-b173-a881ab65ed1b')}, 'run_id': 'df1ba13a-42a0-4ccc-b173-a881ab65ed1b', 'name': 'ChatGroq', 'tags': ['seq:step:1'], 'metadata': {'thread_id': '5', 'langgraph_step': 1, 'langgraph_node': 'SuperBot', 'langgraph_triggers': ('branch:to:SuperBot',), 'langgraph_path': ('__pregel_pull', 'SuperBot'), 'langgraph_checkpoint_ns': 'SuperBot:81dc6040-44c3-d3b6-96a8-292b5d7a3caa', 'checkpoint_ns': 'SuperBot:81dc6040-44c3-d3b6-96a8-292b5d7a3caa', 'ls_provider': 'groq', 'ls_model_name': 'llama3-8b-8192', 'ls_model_type': 'chat', 'ls_temperature': 0.7}, 'parent_ids': ['fc9179e8-7f2a-40ea-86d8-80d86b0ab3b6', '8108e5d5-e6eb-44a0-8057-41b3e38e8eef']}\n",
      "{'event': 'on_chat_model_stream', 'data': {'chunk': AIMessageChunk(content=' What', additional_kwargs={}, response_metadata={}, id='run--df1ba13a-42a0-4ccc-b173-a881ab65ed1b')}, 'run_id': 'df1ba13a-42a0-4ccc-b173-a881ab65ed1b', 'name': 'ChatGroq', 'tags': ['seq:step:1'], 'metadata': {'thread_id': '5', 'langgraph_step': 1, 'langgraph_node': 'SuperBot', 'langgraph_triggers': ('branch:to:SuperBot',), 'langgraph_path': ('__pregel_pull', 'SuperBot'), 'langgraph_checkpoint_ns': 'SuperBot:81dc6040-44c3-d3b6-96a8-292b5d7a3caa', 'checkpoint_ns': 'SuperBot:81dc6040-44c3-d3b6-96a8-292b5d7a3caa', 'ls_provider': 'groq', 'ls_model_name': 'llama3-8b-8192', 'ls_model_type': 'chat', 'ls_temperature': 0.7}, 'parent_ids': ['fc9179e8-7f2a-40ea-86d8-80d86b0ab3b6', '8108e5d5-e6eb-44a0-8057-41b3e38e8eef']}\n",
      "{'event': 'on_chat_model_stream', 'data': {'chunk': AIMessageChunk(content=\"'s\", additional_kwargs={}, response_metadata={}, id='run--df1ba13a-42a0-4ccc-b173-a881ab65ed1b')}, 'run_id': 'df1ba13a-42a0-4ccc-b173-a881ab65ed1b', 'name': 'ChatGroq', 'tags': ['seq:step:1'], 'metadata': {'thread_id': '5', 'langgraph_step': 1, 'langgraph_node': 'SuperBot', 'langgraph_triggers': ('branch:to:SuperBot',), 'langgraph_path': ('__pregel_pull', 'SuperBot'), 'langgraph_checkpoint_ns': 'SuperBot:81dc6040-44c3-d3b6-96a8-292b5d7a3caa', 'checkpoint_ns': 'SuperBot:81dc6040-44c3-d3b6-96a8-292b5d7a3caa', 'ls_provider': 'groq', 'ls_model_name': 'llama3-8b-8192', 'ls_model_type': 'chat', 'ls_temperature': 0.7}, 'parent_ids': ['fc9179e8-7f2a-40ea-86d8-80d86b0ab3b6', '8108e5d5-e6eb-44a0-8057-41b3e38e8eef']}\n",
      "{'event': 'on_chat_model_stream', 'data': {'chunk': AIMessageChunk(content=' your', additional_kwargs={}, response_metadata={}, id='run--df1ba13a-42a0-4ccc-b173-a881ab65ed1b')}, 'run_id': 'df1ba13a-42a0-4ccc-b173-a881ab65ed1b', 'name': 'ChatGroq', 'tags': ['seq:step:1'], 'metadata': {'thread_id': '5', 'langgraph_step': 1, 'langgraph_node': 'SuperBot', 'langgraph_triggers': ('branch:to:SuperBot',), 'langgraph_path': ('__pregel_pull', 'SuperBot'), 'langgraph_checkpoint_ns': 'SuperBot:81dc6040-44c3-d3b6-96a8-292b5d7a3caa', 'checkpoint_ns': 'SuperBot:81dc6040-44c3-d3b6-96a8-292b5d7a3caa', 'ls_provider': 'groq', 'ls_model_name': 'llama3-8b-8192', 'ls_model_type': 'chat', 'ls_temperature': 0.7}, 'parent_ids': ['fc9179e8-7f2a-40ea-86d8-80d86b0ab3b6', '8108e5d5-e6eb-44a0-8057-41b3e38e8eef']}\n",
      "{'event': 'on_chat_model_stream', 'data': {'chunk': AIMessageChunk(content=' favorite', additional_kwargs={}, response_metadata={}, id='run--df1ba13a-42a0-4ccc-b173-a881ab65ed1b')}, 'run_id': 'df1ba13a-42a0-4ccc-b173-a881ab65ed1b', 'name': 'ChatGroq', 'tags': ['seq:step:1'], 'metadata': {'thread_id': '5', 'langgraph_step': 1, 'langgraph_node': 'SuperBot', 'langgraph_triggers': ('branch:to:SuperBot',), 'langgraph_path': ('__pregel_pull', 'SuperBot'), 'langgraph_checkpoint_ns': 'SuperBot:81dc6040-44c3-d3b6-96a8-292b5d7a3caa', 'checkpoint_ns': 'SuperBot:81dc6040-44c3-d3b6-96a8-292b5d7a3caa', 'ls_provider': 'groq', 'ls_model_name': 'llama3-8b-8192', 'ls_model_type': 'chat', 'ls_temperature': 0.7}, 'parent_ids': ['fc9179e8-7f2a-40ea-86d8-80d86b0ab3b6', '8108e5d5-e6eb-44a0-8057-41b3e38e8eef']}\n",
      "{'event': 'on_chat_model_stream', 'data': {'chunk': AIMessageChunk(content=' aspect', additional_kwargs={}, response_metadata={}, id='run--df1ba13a-42a0-4ccc-b173-a881ab65ed1b')}, 'run_id': 'df1ba13a-42a0-4ccc-b173-a881ab65ed1b', 'name': 'ChatGroq', 'tags': ['seq:step:1'], 'metadata': {'thread_id': '5', 'langgraph_step': 1, 'langgraph_node': 'SuperBot', 'langgraph_triggers': ('branch:to:SuperBot',), 'langgraph_path': ('__pregel_pull', 'SuperBot'), 'langgraph_checkpoint_ns': 'SuperBot:81dc6040-44c3-d3b6-96a8-292b5d7a3caa', 'checkpoint_ns': 'SuperBot:81dc6040-44c3-d3b6-96a8-292b5d7a3caa', 'ls_provider': 'groq', 'ls_model_name': 'llama3-8b-8192', 'ls_model_type': 'chat', 'ls_temperature': 0.7}, 'parent_ids': ['fc9179e8-7f2a-40ea-86d8-80d86b0ab3b6', '8108e5d5-e6eb-44a0-8057-41b3e38e8eef']}\n",
      "{'event': 'on_chat_model_stream', 'data': {'chunk': AIMessageChunk(content=' of', additional_kwargs={}, response_metadata={}, id='run--df1ba13a-42a0-4ccc-b173-a881ab65ed1b')}, 'run_id': 'df1ba13a-42a0-4ccc-b173-a881ab65ed1b', 'name': 'ChatGroq', 'tags': ['seq:step:1'], 'metadata': {'thread_id': '5', 'langgraph_step': 1, 'langgraph_node': 'SuperBot', 'langgraph_triggers': ('branch:to:SuperBot',), 'langgraph_path': ('__pregel_pull', 'SuperBot'), 'langgraph_checkpoint_ns': 'SuperBot:81dc6040-44c3-d3b6-96a8-292b5d7a3caa', 'checkpoint_ns': 'SuperBot:81dc6040-44c3-d3b6-96a8-292b5d7a3caa', 'ls_provider': 'groq', 'ls_model_name': 'llama3-8b-8192', 'ls_model_type': 'chat', 'ls_temperature': 0.7}, 'parent_ids': ['fc9179e8-7f2a-40ea-86d8-80d86b0ab3b6', '8108e5d5-e6eb-44a0-8057-41b3e38e8eef']}\n",
      "{'event': 'on_chat_model_stream', 'data': {'chunk': AIMessageChunk(content=' the', additional_kwargs={}, response_metadata={}, id='run--df1ba13a-42a0-4ccc-b173-a881ab65ed1b')}, 'run_id': 'df1ba13a-42a0-4ccc-b173-a881ab65ed1b', 'name': 'ChatGroq', 'tags': ['seq:step:1'], 'metadata': {'thread_id': '5', 'langgraph_step': 1, 'langgraph_node': 'SuperBot', 'langgraph_triggers': ('branch:to:SuperBot',), 'langgraph_path': ('__pregel_pull', 'SuperBot'), 'langgraph_checkpoint_ns': 'SuperBot:81dc6040-44c3-d3b6-96a8-292b5d7a3caa', 'checkpoint_ns': 'SuperBot:81dc6040-44c3-d3b6-96a8-292b5d7a3caa', 'ls_provider': 'groq', 'ls_model_name': 'llama3-8b-8192', 'ls_model_type': 'chat', 'ls_temperature': 0.7}, 'parent_ids': ['fc9179e8-7f2a-40ea-86d8-80d86b0ab3b6', '8108e5d5-e6eb-44a0-8057-41b3e38e8eef']}\n",
      "{'event': 'on_chat_model_stream', 'data': {'chunk': AIMessageChunk(content=' game', additional_kwargs={}, response_metadata={}, id='run--df1ba13a-42a0-4ccc-b173-a881ab65ed1b')}, 'run_id': 'df1ba13a-42a0-4ccc-b173-a881ab65ed1b', 'name': 'ChatGroq', 'tags': ['seq:step:1'], 'metadata': {'thread_id': '5', 'langgraph_step': 1, 'langgraph_node': 'SuperBot', 'langgraph_triggers': ('branch:to:SuperBot',), 'langgraph_path': ('__pregel_pull', 'SuperBot'), 'langgraph_checkpoint_ns': 'SuperBot:81dc6040-44c3-d3b6-96a8-292b5d7a3caa', 'checkpoint_ns': 'SuperBot:81dc6040-44c3-d3b6-96a8-292b5d7a3caa', 'ls_provider': 'groq', 'ls_model_name': 'llama3-8b-8192', 'ls_model_type': 'chat', 'ls_temperature': 0.7}, 'parent_ids': ['fc9179e8-7f2a-40ea-86d8-80d86b0ab3b6', '8108e5d5-e6eb-44a0-8057-41b3e38e8eef']}\n",
      "{'event': 'on_chat_model_stream', 'data': {'chunk': AIMessageChunk(content='?', additional_kwargs={}, response_metadata={}, id='run--df1ba13a-42a0-4ccc-b173-a881ab65ed1b')}, 'run_id': 'df1ba13a-42a0-4ccc-b173-a881ab65ed1b', 'name': 'ChatGroq', 'tags': ['seq:step:1'], 'metadata': {'thread_id': '5', 'langgraph_step': 1, 'langgraph_node': 'SuperBot', 'langgraph_triggers': ('branch:to:SuperBot',), 'langgraph_path': ('__pregel_pull', 'SuperBot'), 'langgraph_checkpoint_ns': 'SuperBot:81dc6040-44c3-d3b6-96a8-292b5d7a3caa', 'checkpoint_ns': 'SuperBot:81dc6040-44c3-d3b6-96a8-292b5d7a3caa', 'ls_provider': 'groq', 'ls_model_name': 'llama3-8b-8192', 'ls_model_type': 'chat', 'ls_temperature': 0.7}, 'parent_ids': ['fc9179e8-7f2a-40ea-86d8-80d86b0ab3b6', '8108e5d5-e6eb-44a0-8057-41b3e38e8eef']}\n",
      "{'event': 'on_chat_model_stream', 'data': {'chunk': AIMessageChunk(content=' Are', additional_kwargs={}, response_metadata={}, id='run--df1ba13a-42a0-4ccc-b173-a881ab65ed1b')}, 'run_id': 'df1ba13a-42a0-4ccc-b173-a881ab65ed1b', 'name': 'ChatGroq', 'tags': ['seq:step:1'], 'metadata': {'thread_id': '5', 'langgraph_step': 1, 'langgraph_node': 'SuperBot', 'langgraph_triggers': ('branch:to:SuperBot',), 'langgraph_path': ('__pregel_pull', 'SuperBot'), 'langgraph_checkpoint_ns': 'SuperBot:81dc6040-44c3-d3b6-96a8-292b5d7a3caa', 'checkpoint_ns': 'SuperBot:81dc6040-44c3-d3b6-96a8-292b5d7a3caa', 'ls_provider': 'groq', 'ls_model_name': 'llama3-8b-8192', 'ls_model_type': 'chat', 'ls_temperature': 0.7}, 'parent_ids': ['fc9179e8-7f2a-40ea-86d8-80d86b0ab3b6', '8108e5d5-e6eb-44a0-8057-41b3e38e8eef']}\n",
      "{'event': 'on_chat_model_stream', 'data': {'chunk': AIMessageChunk(content=' you', additional_kwargs={}, response_metadata={}, id='run--df1ba13a-42a0-4ccc-b173-a881ab65ed1b')}, 'run_id': 'df1ba13a-42a0-4ccc-b173-a881ab65ed1b', 'name': 'ChatGroq', 'tags': ['seq:step:1'], 'metadata': {'thread_id': '5', 'langgraph_step': 1, 'langgraph_node': 'SuperBot', 'langgraph_triggers': ('branch:to:SuperBot',), 'langgraph_path': ('__pregel_pull', 'SuperBot'), 'langgraph_checkpoint_ns': 'SuperBot:81dc6040-44c3-d3b6-96a8-292b5d7a3caa', 'checkpoint_ns': 'SuperBot:81dc6040-44c3-d3b6-96a8-292b5d7a3caa', 'ls_provider': 'groq', 'ls_model_name': 'llama3-8b-8192', 'ls_model_type': 'chat', 'ls_temperature': 0.7}, 'parent_ids': ['fc9179e8-7f2a-40ea-86d8-80d86b0ab3b6', '8108e5d5-e6eb-44a0-8057-41b3e38e8eef']}\n",
      "{'event': 'on_chat_model_stream', 'data': {'chunk': AIMessageChunk(content=' a', additional_kwargs={}, response_metadata={}, id='run--df1ba13a-42a0-4ccc-b173-a881ab65ed1b')}, 'run_id': 'df1ba13a-42a0-4ccc-b173-a881ab65ed1b', 'name': 'ChatGroq', 'tags': ['seq:step:1'], 'metadata': {'thread_id': '5', 'langgraph_step': 1, 'langgraph_node': 'SuperBot', 'langgraph_triggers': ('branch:to:SuperBot',), 'langgraph_path': ('__pregel_pull', 'SuperBot'), 'langgraph_checkpoint_ns': 'SuperBot:81dc6040-44c3-d3b6-96a8-292b5d7a3caa', 'checkpoint_ns': 'SuperBot:81dc6040-44c3-d3b6-96a8-292b5d7a3caa', 'ls_provider': 'groq', 'ls_model_name': 'llama3-8b-8192', 'ls_model_type': 'chat', 'ls_temperature': 0.7}, 'parent_ids': ['fc9179e8-7f2a-40ea-86d8-80d86b0ab3b6', '8108e5d5-e6eb-44a0-8057-41b3e38e8eef']}\n",
      "{'event': 'on_chat_model_stream', 'data': {'chunk': AIMessageChunk(content=' skilled', additional_kwargs={}, response_metadata={}, id='run--df1ba13a-42a0-4ccc-b173-a881ab65ed1b')}, 'run_id': 'df1ba13a-42a0-4ccc-b173-a881ab65ed1b', 'name': 'ChatGroq', 'tags': ['seq:step:1'], 'metadata': {'thread_id': '5', 'langgraph_step': 1, 'langgraph_node': 'SuperBot', 'langgraph_triggers': ('branch:to:SuperBot',), 'langgraph_path': ('__pregel_pull', 'SuperBot'), 'langgraph_checkpoint_ns': 'SuperBot:81dc6040-44c3-d3b6-96a8-292b5d7a3caa', 'checkpoint_ns': 'SuperBot:81dc6040-44c3-d3b6-96a8-292b5d7a3caa', 'ls_provider': 'groq', 'ls_model_name': 'llama3-8b-8192', 'ls_model_type': 'chat', 'ls_temperature': 0.7}, 'parent_ids': ['fc9179e8-7f2a-40ea-86d8-80d86b0ab3b6', '8108e5d5-e6eb-44a0-8057-41b3e38e8eef']}\n",
      "{'event': 'on_chat_model_stream', 'data': {'chunk': AIMessageChunk(content=' bats', additional_kwargs={}, response_metadata={}, id='run--df1ba13a-42a0-4ccc-b173-a881ab65ed1b')}, 'run_id': 'df1ba13a-42a0-4ccc-b173-a881ab65ed1b', 'name': 'ChatGroq', 'tags': ['seq:step:1'], 'metadata': {'thread_id': '5', 'langgraph_step': 1, 'langgraph_node': 'SuperBot', 'langgraph_triggers': ('branch:to:SuperBot',), 'langgraph_path': ('__pregel_pull', 'SuperBot'), 'langgraph_checkpoint_ns': 'SuperBot:81dc6040-44c3-d3b6-96a8-292b5d7a3caa', 'checkpoint_ns': 'SuperBot:81dc6040-44c3-d3b6-96a8-292b5d7a3caa', 'ls_provider': 'groq', 'ls_model_name': 'llama3-8b-8192', 'ls_model_type': 'chat', 'ls_temperature': 0.7}, 'parent_ids': ['fc9179e8-7f2a-40ea-86d8-80d86b0ab3b6', '8108e5d5-e6eb-44a0-8057-41b3e38e8eef']}\n",
      "{'event': 'on_chat_model_stream', 'data': {'chunk': AIMessageChunk(content='man', additional_kwargs={}, response_metadata={}, id='run--df1ba13a-42a0-4ccc-b173-a881ab65ed1b')}, 'run_id': 'df1ba13a-42a0-4ccc-b173-a881ab65ed1b', 'name': 'ChatGroq', 'tags': ['seq:step:1'], 'metadata': {'thread_id': '5', 'langgraph_step': 1, 'langgraph_node': 'SuperBot', 'langgraph_triggers': ('branch:to:SuperBot',), 'langgraph_path': ('__pregel_pull', 'SuperBot'), 'langgraph_checkpoint_ns': 'SuperBot:81dc6040-44c3-d3b6-96a8-292b5d7a3caa', 'checkpoint_ns': 'SuperBot:81dc6040-44c3-d3b6-96a8-292b5d7a3caa', 'ls_provider': 'groq', 'ls_model_name': 'llama3-8b-8192', 'ls_model_type': 'chat', 'ls_temperature': 0.7}, 'parent_ids': ['fc9179e8-7f2a-40ea-86d8-80d86b0ab3b6', '8108e5d5-e6eb-44a0-8057-41b3e38e8eef']}\n",
      "{'event': 'on_chat_model_stream', 'data': {'chunk': AIMessageChunk(content=',', additional_kwargs={}, response_metadata={}, id='run--df1ba13a-42a0-4ccc-b173-a881ab65ed1b')}, 'run_id': 'df1ba13a-42a0-4ccc-b173-a881ab65ed1b', 'name': 'ChatGroq', 'tags': ['seq:step:1'], 'metadata': {'thread_id': '5', 'langgraph_step': 1, 'langgraph_node': 'SuperBot', 'langgraph_triggers': ('branch:to:SuperBot',), 'langgraph_path': ('__pregel_pull', 'SuperBot'), 'langgraph_checkpoint_ns': 'SuperBot:81dc6040-44c3-d3b6-96a8-292b5d7a3caa', 'checkpoint_ns': 'SuperBot:81dc6040-44c3-d3b6-96a8-292b5d7a3caa', 'ls_provider': 'groq', 'ls_model_name': 'llama3-8b-8192', 'ls_model_type': 'chat', 'ls_temperature': 0.7}, 'parent_ids': ['fc9179e8-7f2a-40ea-86d8-80d86b0ab3b6', '8108e5d5-e6eb-44a0-8057-41b3e38e8eef']}\n",
      "{'event': 'on_chat_model_stream', 'data': {'chunk': AIMessageChunk(content=' a', additional_kwargs={}, response_metadata={}, id='run--df1ba13a-42a0-4ccc-b173-a881ab65ed1b')}, 'run_id': 'df1ba13a-42a0-4ccc-b173-a881ab65ed1b', 'name': 'ChatGroq', 'tags': ['seq:step:1'], 'metadata': {'thread_id': '5', 'langgraph_step': 1, 'langgraph_node': 'SuperBot', 'langgraph_triggers': ('branch:to:SuperBot',), 'langgraph_path': ('__pregel_pull', 'SuperBot'), 'langgraph_checkpoint_ns': 'SuperBot:81dc6040-44c3-d3b6-96a8-292b5d7a3caa', 'checkpoint_ns': 'SuperBot:81dc6040-44c3-d3b6-96a8-292b5d7a3caa', 'ls_provider': 'groq', 'ls_model_name': 'llama3-8b-8192', 'ls_model_type': 'chat', 'ls_temperature': 0.7}, 'parent_ids': ['fc9179e8-7f2a-40ea-86d8-80d86b0ab3b6', '8108e5d5-e6eb-44a0-8057-41b3e38e8eef']}\n",
      "{'event': 'on_chat_model_stream', 'data': {'chunk': AIMessageChunk(content=' sharp', additional_kwargs={}, response_metadata={}, id='run--df1ba13a-42a0-4ccc-b173-a881ab65ed1b')}, 'run_id': 'df1ba13a-42a0-4ccc-b173-a881ab65ed1b', 'name': 'ChatGroq', 'tags': ['seq:step:1'], 'metadata': {'thread_id': '5', 'langgraph_step': 1, 'langgraph_node': 'SuperBot', 'langgraph_triggers': ('branch:to:SuperBot',), 'langgraph_path': ('__pregel_pull', 'SuperBot'), 'langgraph_checkpoint_ns': 'SuperBot:81dc6040-44c3-d3b6-96a8-292b5d7a3caa', 'checkpoint_ns': 'SuperBot:81dc6040-44c3-d3b6-96a8-292b5d7a3caa', 'ls_provider': 'groq', 'ls_model_name': 'llama3-8b-8192', 'ls_model_type': 'chat', 'ls_temperature': 0.7}, 'parent_ids': ['fc9179e8-7f2a-40ea-86d8-80d86b0ab3b6', '8108e5d5-e6eb-44a0-8057-41b3e38e8eef']}\n",
      "{'event': 'on_chat_model_stream', 'data': {'chunk': AIMessageChunk(content=' bow', additional_kwargs={}, response_metadata={}, id='run--df1ba13a-42a0-4ccc-b173-a881ab65ed1b')}, 'run_id': 'df1ba13a-42a0-4ccc-b173-a881ab65ed1b', 'name': 'ChatGroq', 'tags': ['seq:step:1'], 'metadata': {'thread_id': '5', 'langgraph_step': 1, 'langgraph_node': 'SuperBot', 'langgraph_triggers': ('branch:to:SuperBot',), 'langgraph_path': ('__pregel_pull', 'SuperBot'), 'langgraph_checkpoint_ns': 'SuperBot:81dc6040-44c3-d3b6-96a8-292b5d7a3caa', 'checkpoint_ns': 'SuperBot:81dc6040-44c3-d3b6-96a8-292b5d7a3caa', 'ls_provider': 'groq', 'ls_model_name': 'llama3-8b-8192', 'ls_model_type': 'chat', 'ls_temperature': 0.7}, 'parent_ids': ['fc9179e8-7f2a-40ea-86d8-80d86b0ab3b6', '8108e5d5-e6eb-44a0-8057-41b3e38e8eef']}\n",
      "{'event': 'on_chat_model_stream', 'data': {'chunk': AIMessageChunk(content='ler', additional_kwargs={}, response_metadata={}, id='run--df1ba13a-42a0-4ccc-b173-a881ab65ed1b')}, 'run_id': 'df1ba13a-42a0-4ccc-b173-a881ab65ed1b', 'name': 'ChatGroq', 'tags': ['seq:step:1'], 'metadata': {'thread_id': '5', 'langgraph_step': 1, 'langgraph_node': 'SuperBot', 'langgraph_triggers': ('branch:to:SuperBot',), 'langgraph_path': ('__pregel_pull', 'SuperBot'), 'langgraph_checkpoint_ns': 'SuperBot:81dc6040-44c3-d3b6-96a8-292b5d7a3caa', 'checkpoint_ns': 'SuperBot:81dc6040-44c3-d3b6-96a8-292b5d7a3caa', 'ls_provider': 'groq', 'ls_model_name': 'llama3-8b-8192', 'ls_model_type': 'chat', 'ls_temperature': 0.7}, 'parent_ids': ['fc9179e8-7f2a-40ea-86d8-80d86b0ab3b6', '8108e5d5-e6eb-44a0-8057-41b3e38e8eef']}\n",
      "{'event': 'on_chat_model_stream', 'data': {'chunk': AIMessageChunk(content=',', additional_kwargs={}, response_metadata={}, id='run--df1ba13a-42a0-4ccc-b173-a881ab65ed1b')}, 'run_id': 'df1ba13a-42a0-4ccc-b173-a881ab65ed1b', 'name': 'ChatGroq', 'tags': ['seq:step:1'], 'metadata': {'thread_id': '5', 'langgraph_step': 1, 'langgraph_node': 'SuperBot', 'langgraph_triggers': ('branch:to:SuperBot',), 'langgraph_path': ('__pregel_pull', 'SuperBot'), 'langgraph_checkpoint_ns': 'SuperBot:81dc6040-44c3-d3b6-96a8-292b5d7a3caa', 'checkpoint_ns': 'SuperBot:81dc6040-44c3-d3b6-96a8-292b5d7a3caa', 'ls_provider': 'groq', 'ls_model_name': 'llama3-8b-8192', 'ls_model_type': 'chat', 'ls_temperature': 0.7}, 'parent_ids': ['fc9179e8-7f2a-40ea-86d8-80d86b0ab3b6', '8108e5d5-e6eb-44a0-8057-41b3e38e8eef']}\n",
      "{'event': 'on_chat_model_stream', 'data': {'chunk': AIMessageChunk(content=' or', additional_kwargs={}, response_metadata={}, id='run--df1ba13a-42a0-4ccc-b173-a881ab65ed1b')}, 'run_id': 'df1ba13a-42a0-4ccc-b173-a881ab65ed1b', 'name': 'ChatGroq', 'tags': ['seq:step:1'], 'metadata': {'thread_id': '5', 'langgraph_step': 1, 'langgraph_node': 'SuperBot', 'langgraph_triggers': ('branch:to:SuperBot',), 'langgraph_path': ('__pregel_pull', 'SuperBot'), 'langgraph_checkpoint_ns': 'SuperBot:81dc6040-44c3-d3b6-96a8-292b5d7a3caa', 'checkpoint_ns': 'SuperBot:81dc6040-44c3-d3b6-96a8-292b5d7a3caa', 'ls_provider': 'groq', 'ls_model_name': 'llama3-8b-8192', 'ls_model_type': 'chat', 'ls_temperature': 0.7}, 'parent_ids': ['fc9179e8-7f2a-40ea-86d8-80d86b0ab3b6', '8108e5d5-e6eb-44a0-8057-41b3e38e8eef']}\n",
      "{'event': 'on_chat_model_stream', 'data': {'chunk': AIMessageChunk(content=' a', additional_kwargs={}, response_metadata={}, id='run--df1ba13a-42a0-4ccc-b173-a881ab65ed1b')}, 'run_id': 'df1ba13a-42a0-4ccc-b173-a881ab65ed1b', 'name': 'ChatGroq', 'tags': ['seq:step:1'], 'metadata': {'thread_id': '5', 'langgraph_step': 1, 'langgraph_node': 'SuperBot', 'langgraph_triggers': ('branch:to:SuperBot',), 'langgraph_path': ('__pregel_pull', 'SuperBot'), 'langgraph_checkpoint_ns': 'SuperBot:81dc6040-44c3-d3b6-96a8-292b5d7a3caa', 'checkpoint_ns': 'SuperBot:81dc6040-44c3-d3b6-96a8-292b5d7a3caa', 'ls_provider': 'groq', 'ls_model_name': 'llama3-8b-8192', 'ls_model_type': 'chat', 'ls_temperature': 0.7}, 'parent_ids': ['fc9179e8-7f2a-40ea-86d8-80d86b0ab3b6', '8108e5d5-e6eb-44a0-8057-41b3e38e8eef']}\n",
      "{'event': 'on_chat_model_stream', 'data': {'chunk': AIMessageChunk(content=' agile', additional_kwargs={}, response_metadata={}, id='run--df1ba13a-42a0-4ccc-b173-a881ab65ed1b')}, 'run_id': 'df1ba13a-42a0-4ccc-b173-a881ab65ed1b', 'name': 'ChatGroq', 'tags': ['seq:step:1'], 'metadata': {'thread_id': '5', 'langgraph_step': 1, 'langgraph_node': 'SuperBot', 'langgraph_triggers': ('branch:to:SuperBot',), 'langgraph_path': ('__pregel_pull', 'SuperBot'), 'langgraph_checkpoint_ns': 'SuperBot:81dc6040-44c3-d3b6-96a8-292b5d7a3caa', 'checkpoint_ns': 'SuperBot:81dc6040-44c3-d3b6-96a8-292b5d7a3caa', 'ls_provider': 'groq', 'ls_model_name': 'llama3-8b-8192', 'ls_model_type': 'chat', 'ls_temperature': 0.7}, 'parent_ids': ['fc9179e8-7f2a-40ea-86d8-80d86b0ab3b6', '8108e5d5-e6eb-44a0-8057-41b3e38e8eef']}\n",
      "{'event': 'on_chat_model_stream', 'data': {'chunk': AIMessageChunk(content=' field', additional_kwargs={}, response_metadata={}, id='run--df1ba13a-42a0-4ccc-b173-a881ab65ed1b')}, 'run_id': 'df1ba13a-42a0-4ccc-b173-a881ab65ed1b', 'name': 'ChatGroq', 'tags': ['seq:step:1'], 'metadata': {'thread_id': '5', 'langgraph_step': 1, 'langgraph_node': 'SuperBot', 'langgraph_triggers': ('branch:to:SuperBot',), 'langgraph_path': ('__pregel_pull', 'SuperBot'), 'langgraph_checkpoint_ns': 'SuperBot:81dc6040-44c3-d3b6-96a8-292b5d7a3caa', 'checkpoint_ns': 'SuperBot:81dc6040-44c3-d3b6-96a8-292b5d7a3caa', 'ls_provider': 'groq', 'ls_model_name': 'llama3-8b-8192', 'ls_model_type': 'chat', 'ls_temperature': 0.7}, 'parent_ids': ['fc9179e8-7f2a-40ea-86d8-80d86b0ab3b6', '8108e5d5-e6eb-44a0-8057-41b3e38e8eef']}\n",
      "{'event': 'on_chat_model_stream', 'data': {'chunk': AIMessageChunk(content='er', additional_kwargs={}, response_metadata={}, id='run--df1ba13a-42a0-4ccc-b173-a881ab65ed1b')}, 'run_id': 'df1ba13a-42a0-4ccc-b173-a881ab65ed1b', 'name': 'ChatGroq', 'tags': ['seq:step:1'], 'metadata': {'thread_id': '5', 'langgraph_step': 1, 'langgraph_node': 'SuperBot', 'langgraph_triggers': ('branch:to:SuperBot',), 'langgraph_path': ('__pregel_pull', 'SuperBot'), 'langgraph_checkpoint_ns': 'SuperBot:81dc6040-44c3-d3b6-96a8-292b5d7a3caa', 'checkpoint_ns': 'SuperBot:81dc6040-44c3-d3b6-96a8-292b5d7a3caa', 'ls_provider': 'groq', 'ls_model_name': 'llama3-8b-8192', 'ls_model_type': 'chat', 'ls_temperature': 0.7}, 'parent_ids': ['fc9179e8-7f2a-40ea-86d8-80d86b0ab3b6', '8108e5d5-e6eb-44a0-8057-41b3e38e8eef']}\n",
      "{'event': 'on_chat_model_stream', 'data': {'chunk': AIMessageChunk(content='?', additional_kwargs={}, response_metadata={}, id='run--df1ba13a-42a0-4ccc-b173-a881ab65ed1b')}, 'run_id': 'df1ba13a-42a0-4ccc-b173-a881ab65ed1b', 'name': 'ChatGroq', 'tags': ['seq:step:1'], 'metadata': {'thread_id': '5', 'langgraph_step': 1, 'langgraph_node': 'SuperBot', 'langgraph_triggers': ('branch:to:SuperBot',), 'langgraph_path': ('__pregel_pull', 'SuperBot'), 'langgraph_checkpoint_ns': 'SuperBot:81dc6040-44c3-d3b6-96a8-292b5d7a3caa', 'checkpoint_ns': 'SuperBot:81dc6040-44c3-d3b6-96a8-292b5d7a3caa', 'ls_provider': 'groq', 'ls_model_name': 'llama3-8b-8192', 'ls_model_type': 'chat', 'ls_temperature': 0.7}, 'parent_ids': ['fc9179e8-7f2a-40ea-86d8-80d86b0ab3b6', '8108e5d5-e6eb-44a0-8057-41b3e38e8eef']}\n",
      "{'event': 'on_chat_model_stream', 'data': {'chunk': AIMessageChunk(content=' Do', additional_kwargs={}, response_metadata={}, id='run--df1ba13a-42a0-4ccc-b173-a881ab65ed1b')}, 'run_id': 'df1ba13a-42a0-4ccc-b173-a881ab65ed1b', 'name': 'ChatGroq', 'tags': ['seq:step:1'], 'metadata': {'thread_id': '5', 'langgraph_step': 1, 'langgraph_node': 'SuperBot', 'langgraph_triggers': ('branch:to:SuperBot',), 'langgraph_path': ('__pregel_pull', 'SuperBot'), 'langgraph_checkpoint_ns': 'SuperBot:81dc6040-44c3-d3b6-96a8-292b5d7a3caa', 'checkpoint_ns': 'SuperBot:81dc6040-44c3-d3b6-96a8-292b5d7a3caa', 'ls_provider': 'groq', 'ls_model_name': 'llama3-8b-8192', 'ls_model_type': 'chat', 'ls_temperature': 0.7}, 'parent_ids': ['fc9179e8-7f2a-40ea-86d8-80d86b0ab3b6', '8108e5d5-e6eb-44a0-8057-41b3e38e8eef']}\n",
      "{'event': 'on_chat_model_stream', 'data': {'chunk': AIMessageChunk(content=' you', additional_kwargs={}, response_metadata={}, id='run--df1ba13a-42a0-4ccc-b173-a881ab65ed1b')}, 'run_id': 'df1ba13a-42a0-4ccc-b173-a881ab65ed1b', 'name': 'ChatGroq', 'tags': ['seq:step:1'], 'metadata': {'thread_id': '5', 'langgraph_step': 1, 'langgraph_node': 'SuperBot', 'langgraph_triggers': ('branch:to:SuperBot',), 'langgraph_path': ('__pregel_pull', 'SuperBot'), 'langgraph_checkpoint_ns': 'SuperBot:81dc6040-44c3-d3b6-96a8-292b5d7a3caa', 'checkpoint_ns': 'SuperBot:81dc6040-44c3-d3b6-96a8-292b5d7a3caa', 'ls_provider': 'groq', 'ls_model_name': 'llama3-8b-8192', 'ls_model_type': 'chat', 'ls_temperature': 0.7}, 'parent_ids': ['fc9179e8-7f2a-40ea-86d8-80d86b0ab3b6', '8108e5d5-e6eb-44a0-8057-41b3e38e8eef']}\n",
      "{'event': 'on_chat_model_stream', 'data': {'chunk': AIMessageChunk(content=' play', additional_kwargs={}, response_metadata={}, id='run--df1ba13a-42a0-4ccc-b173-a881ab65ed1b')}, 'run_id': 'df1ba13a-42a0-4ccc-b173-a881ab65ed1b', 'name': 'ChatGroq', 'tags': ['seq:step:1'], 'metadata': {'thread_id': '5', 'langgraph_step': 1, 'langgraph_node': 'SuperBot', 'langgraph_triggers': ('branch:to:SuperBot',), 'langgraph_path': ('__pregel_pull', 'SuperBot'), 'langgraph_checkpoint_ns': 'SuperBot:81dc6040-44c3-d3b6-96a8-292b5d7a3caa', 'checkpoint_ns': 'SuperBot:81dc6040-44c3-d3b6-96a8-292b5d7a3caa', 'ls_provider': 'groq', 'ls_model_name': 'llama3-8b-8192', 'ls_model_type': 'chat', 'ls_temperature': 0.7}, 'parent_ids': ['fc9179e8-7f2a-40ea-86d8-80d86b0ab3b6', '8108e5d5-e6eb-44a0-8057-41b3e38e8eef']}\n",
      "{'event': 'on_chat_model_stream', 'data': {'chunk': AIMessageChunk(content=' for', additional_kwargs={}, response_metadata={}, id='run--df1ba13a-42a0-4ccc-b173-a881ab65ed1b')}, 'run_id': 'df1ba13a-42a0-4ccc-b173-a881ab65ed1b', 'name': 'ChatGroq', 'tags': ['seq:step:1'], 'metadata': {'thread_id': '5', 'langgraph_step': 1, 'langgraph_node': 'SuperBot', 'langgraph_triggers': ('branch:to:SuperBot',), 'langgraph_path': ('__pregel_pull', 'SuperBot'), 'langgraph_checkpoint_ns': 'SuperBot:81dc6040-44c3-d3b6-96a8-292b5d7a3caa', 'checkpoint_ns': 'SuperBot:81dc6040-44c3-d3b6-96a8-292b5d7a3caa', 'ls_provider': 'groq', 'ls_model_name': 'llama3-8b-8192', 'ls_model_type': 'chat', 'ls_temperature': 0.7}, 'parent_ids': ['fc9179e8-7f2a-40ea-86d8-80d86b0ab3b6', '8108e5d5-e6eb-44a0-8057-41b3e38e8eef']}\n",
      "{'event': 'on_chat_model_stream', 'data': {'chunk': AIMessageChunk(content=' a', additional_kwargs={}, response_metadata={}, id='run--df1ba13a-42a0-4ccc-b173-a881ab65ed1b')}, 'run_id': 'df1ba13a-42a0-4ccc-b173-a881ab65ed1b', 'name': 'ChatGroq', 'tags': ['seq:step:1'], 'metadata': {'thread_id': '5', 'langgraph_step': 1, 'langgraph_node': 'SuperBot', 'langgraph_triggers': ('branch:to:SuperBot',), 'langgraph_path': ('__pregel_pull', 'SuperBot'), 'langgraph_checkpoint_ns': 'SuperBot:81dc6040-44c3-d3b6-96a8-292b5d7a3caa', 'checkpoint_ns': 'SuperBot:81dc6040-44c3-d3b6-96a8-292b5d7a3caa', 'ls_provider': 'groq', 'ls_model_name': 'llama3-8b-8192', 'ls_model_type': 'chat', 'ls_temperature': 0.7}, 'parent_ids': ['fc9179e8-7f2a-40ea-86d8-80d86b0ab3b6', '8108e5d5-e6eb-44a0-8057-41b3e38e8eef']}\n",
      "{'event': 'on_chat_model_stream', 'data': {'chunk': AIMessageChunk(content=' team', additional_kwargs={}, response_metadata={}, id='run--df1ba13a-42a0-4ccc-b173-a881ab65ed1b')}, 'run_id': 'df1ba13a-42a0-4ccc-b173-a881ab65ed1b', 'name': 'ChatGroq', 'tags': ['seq:step:1'], 'metadata': {'thread_id': '5', 'langgraph_step': 1, 'langgraph_node': 'SuperBot', 'langgraph_triggers': ('branch:to:SuperBot',), 'langgraph_path': ('__pregel_pull', 'SuperBot'), 'langgraph_checkpoint_ns': 'SuperBot:81dc6040-44c3-d3b6-96a8-292b5d7a3caa', 'checkpoint_ns': 'SuperBot:81dc6040-44c3-d3b6-96a8-292b5d7a3caa', 'ls_provider': 'groq', 'ls_model_name': 'llama3-8b-8192', 'ls_model_type': 'chat', 'ls_temperature': 0.7}, 'parent_ids': ['fc9179e8-7f2a-40ea-86d8-80d86b0ab3b6', '8108e5d5-e6eb-44a0-8057-41b3e38e8eef']}\n",
      "{'event': 'on_chat_model_stream', 'data': {'chunk': AIMessageChunk(content=' or', additional_kwargs={}, response_metadata={}, id='run--df1ba13a-42a0-4ccc-b173-a881ab65ed1b')}, 'run_id': 'df1ba13a-42a0-4ccc-b173-a881ab65ed1b', 'name': 'ChatGroq', 'tags': ['seq:step:1'], 'metadata': {'thread_id': '5', 'langgraph_step': 1, 'langgraph_node': 'SuperBot', 'langgraph_triggers': ('branch:to:SuperBot',), 'langgraph_path': ('__pregel_pull', 'SuperBot'), 'langgraph_checkpoint_ns': 'SuperBot:81dc6040-44c3-d3b6-96a8-292b5d7a3caa', 'checkpoint_ns': 'SuperBot:81dc6040-44c3-d3b6-96a8-292b5d7a3caa', 'ls_provider': 'groq', 'ls_model_name': 'llama3-8b-8192', 'ls_model_type': 'chat', 'ls_temperature': 0.7}, 'parent_ids': ['fc9179e8-7f2a-40ea-86d8-80d86b0ab3b6', '8108e5d5-e6eb-44a0-8057-41b3e38e8eef']}\n",
      "{'event': 'on_chat_model_stream', 'data': {'chunk': AIMessageChunk(content=' with', additional_kwargs={}, response_metadata={}, id='run--df1ba13a-42a0-4ccc-b173-a881ab65ed1b')}, 'run_id': 'df1ba13a-42a0-4ccc-b173-a881ab65ed1b', 'name': 'ChatGroq', 'tags': ['seq:step:1'], 'metadata': {'thread_id': '5', 'langgraph_step': 1, 'langgraph_node': 'SuperBot', 'langgraph_triggers': ('branch:to:SuperBot',), 'langgraph_path': ('__pregel_pull', 'SuperBot'), 'langgraph_checkpoint_ns': 'SuperBot:81dc6040-44c3-d3b6-96a8-292b5d7a3caa', 'checkpoint_ns': 'SuperBot:81dc6040-44c3-d3b6-96a8-292b5d7a3caa', 'ls_provider': 'groq', 'ls_model_name': 'llama3-8b-8192', 'ls_model_type': 'chat', 'ls_temperature': 0.7}, 'parent_ids': ['fc9179e8-7f2a-40ea-86d8-80d86b0ab3b6', '8108e5d5-e6eb-44a0-8057-41b3e38e8eef']}\n",
      "{'event': 'on_chat_model_stream', 'data': {'chunk': AIMessageChunk(content=' friends', additional_kwargs={}, response_metadata={}, id='run--df1ba13a-42a0-4ccc-b173-a881ab65ed1b')}, 'run_id': 'df1ba13a-42a0-4ccc-b173-a881ab65ed1b', 'name': 'ChatGroq', 'tags': ['seq:step:1'], 'metadata': {'thread_id': '5', 'langgraph_step': 1, 'langgraph_node': 'SuperBot', 'langgraph_triggers': ('branch:to:SuperBot',), 'langgraph_path': ('__pregel_pull', 'SuperBot'), 'langgraph_checkpoint_ns': 'SuperBot:81dc6040-44c3-d3b6-96a8-292b5d7a3caa', 'checkpoint_ns': 'SuperBot:81dc6040-44c3-d3b6-96a8-292b5d7a3caa', 'ls_provider': 'groq', 'ls_model_name': 'llama3-8b-8192', 'ls_model_type': 'chat', 'ls_temperature': 0.7}, 'parent_ids': ['fc9179e8-7f2a-40ea-86d8-80d86b0ab3b6', '8108e5d5-e6eb-44a0-8057-41b3e38e8eef']}\n",
      "{'event': 'on_chat_model_stream', 'data': {'chunk': AIMessageChunk(content='?', additional_kwargs={}, response_metadata={}, id='run--df1ba13a-42a0-4ccc-b173-a881ab65ed1b')}, 'run_id': 'df1ba13a-42a0-4ccc-b173-a881ab65ed1b', 'name': 'ChatGroq', 'tags': ['seq:step:1'], 'metadata': {'thread_id': '5', 'langgraph_step': 1, 'langgraph_node': 'SuperBot', 'langgraph_triggers': ('branch:to:SuperBot',), 'langgraph_path': ('__pregel_pull', 'SuperBot'), 'langgraph_checkpoint_ns': 'SuperBot:81dc6040-44c3-d3b6-96a8-292b5d7a3caa', 'checkpoint_ns': 'SuperBot:81dc6040-44c3-d3b6-96a8-292b5d7a3caa', 'ls_provider': 'groq', 'ls_model_name': 'llama3-8b-8192', 'ls_model_type': 'chat', 'ls_temperature': 0.7}, 'parent_ids': ['fc9179e8-7f2a-40ea-86d8-80d86b0ab3b6', '8108e5d5-e6eb-44a0-8057-41b3e38e8eef']}\n",
      "{'event': 'on_chat_model_stream', 'data': {'chunk': AIMessageChunk(content='', additional_kwargs={}, response_metadata={'finish_reason': 'stop', 'model_name': 'llama3-8b-8192', 'system_fingerprint': 'fp_8dc6ecaf8e'}, id='run--df1ba13a-42a0-4ccc-b173-a881ab65ed1b', usage_metadata={'input_tokens': 21, 'output_tokens': 55, 'total_tokens': 76})}, 'run_id': 'df1ba13a-42a0-4ccc-b173-a881ab65ed1b', 'name': 'ChatGroq', 'tags': ['seq:step:1'], 'metadata': {'thread_id': '5', 'langgraph_step': 1, 'langgraph_node': 'SuperBot', 'langgraph_triggers': ('branch:to:SuperBot',), 'langgraph_path': ('__pregel_pull', 'SuperBot'), 'langgraph_checkpoint_ns': 'SuperBot:81dc6040-44c3-d3b6-96a8-292b5d7a3caa', 'checkpoint_ns': 'SuperBot:81dc6040-44c3-d3b6-96a8-292b5d7a3caa', 'ls_provider': 'groq', 'ls_model_name': 'llama3-8b-8192', 'ls_model_type': 'chat', 'ls_temperature': 0.7}, 'parent_ids': ['fc9179e8-7f2a-40ea-86d8-80d86b0ab3b6', '8108e5d5-e6eb-44a0-8057-41b3e38e8eef']}\n",
      "{'event': 'on_chat_model_end', 'data': {'output': AIMessage(content=\"Nice to meet you, Krish! That's awesome that you like to play cricket! What's your favorite aspect of the game? Are you a skilled batsman, a sharp bowler, or a agile fielder? Do you play for a team or with friends?\", additional_kwargs={}, response_metadata={'finish_reason': 'stop', 'model_name': 'llama3-8b-8192', 'system_fingerprint': 'fp_8dc6ecaf8e'}, id='run--df1ba13a-42a0-4ccc-b173-a881ab65ed1b', usage_metadata={'input_tokens': 21, 'output_tokens': 55, 'total_tokens': 76}), 'input': {'messages': [[HumanMessage(content='Hi My name is Krish and I like to play cricket', additional_kwargs={}, response_metadata={}, id='5cbc8727-5339-4a8a-9d63-09267608e1af')]]}}, 'run_id': 'df1ba13a-42a0-4ccc-b173-a881ab65ed1b', 'name': 'ChatGroq', 'tags': ['seq:step:1'], 'metadata': {'thread_id': '5', 'langgraph_step': 1, 'langgraph_node': 'SuperBot', 'langgraph_triggers': ('branch:to:SuperBot',), 'langgraph_path': ('__pregel_pull', 'SuperBot'), 'langgraph_checkpoint_ns': 'SuperBot:81dc6040-44c3-d3b6-96a8-292b5d7a3caa', 'checkpoint_ns': 'SuperBot:81dc6040-44c3-d3b6-96a8-292b5d7a3caa', 'ls_provider': 'groq', 'ls_model_name': 'llama3-8b-8192', 'ls_model_type': 'chat', 'ls_temperature': 0.7}, 'parent_ids': ['fc9179e8-7f2a-40ea-86d8-80d86b0ab3b6', '8108e5d5-e6eb-44a0-8057-41b3e38e8eef']}\n",
      "{'event': 'on_chain_stream', 'run_id': '8108e5d5-e6eb-44a0-8057-41b3e38e8eef', 'name': 'SuperBot', 'tags': ['graph:step:1'], 'metadata': {'thread_id': '5', 'langgraph_step': 1, 'langgraph_node': 'SuperBot', 'langgraph_triggers': ('branch:to:SuperBot',), 'langgraph_path': ('__pregel_pull', 'SuperBot'), 'langgraph_checkpoint_ns': 'SuperBot:81dc6040-44c3-d3b6-96a8-292b5d7a3caa'}, 'data': {'chunk': {'messages': [AIMessage(content=\"Nice to meet you, Krish! That's awesome that you like to play cricket! What's your favorite aspect of the game? Are you a skilled batsman, a sharp bowler, or a agile fielder? Do you play for a team or with friends?\", additional_kwargs={}, response_metadata={'finish_reason': 'stop', 'model_name': 'llama3-8b-8192', 'system_fingerprint': 'fp_8dc6ecaf8e'}, id='run--df1ba13a-42a0-4ccc-b173-a881ab65ed1b', usage_metadata={'input_tokens': 21, 'output_tokens': 55, 'total_tokens': 76})]}}, 'parent_ids': ['fc9179e8-7f2a-40ea-86d8-80d86b0ab3b6']}\n",
      "{'event': 'on_chain_end', 'data': {'output': {'messages': [AIMessage(content=\"Nice to meet you, Krish! That's awesome that you like to play cricket! What's your favorite aspect of the game? Are you a skilled batsman, a sharp bowler, or a agile fielder? Do you play for a team or with friends?\", additional_kwargs={}, response_metadata={'finish_reason': 'stop', 'model_name': 'llama3-8b-8192', 'system_fingerprint': 'fp_8dc6ecaf8e'}, id='run--df1ba13a-42a0-4ccc-b173-a881ab65ed1b', usage_metadata={'input_tokens': 21, 'output_tokens': 55, 'total_tokens': 76})]}, 'input': {'messages': [HumanMessage(content='Hi My name is Krish and I like to play cricket', additional_kwargs={}, response_metadata={}, id='5cbc8727-5339-4a8a-9d63-09267608e1af')]}}, 'run_id': '8108e5d5-e6eb-44a0-8057-41b3e38e8eef', 'name': 'SuperBot', 'tags': ['graph:step:1'], 'metadata': {'thread_id': '5', 'langgraph_step': 1, 'langgraph_node': 'SuperBot', 'langgraph_triggers': ('branch:to:SuperBot',), 'langgraph_path': ('__pregel_pull', 'SuperBot'), 'langgraph_checkpoint_ns': 'SuperBot:81dc6040-44c3-d3b6-96a8-292b5d7a3caa'}, 'parent_ids': ['fc9179e8-7f2a-40ea-86d8-80d86b0ab3b6']}\n",
      "{'event': 'on_chain_stream', 'run_id': 'fc9179e8-7f2a-40ea-86d8-80d86b0ab3b6', 'name': 'LangGraph', 'tags': [], 'metadata': {'thread_id': '5'}, 'data': {'chunk': {'SuperBot': {'messages': [AIMessage(content=\"Nice to meet you, Krish! That's awesome that you like to play cricket! What's your favorite aspect of the game? Are you a skilled batsman, a sharp bowler, or a agile fielder? Do you play for a team or with friends?\", additional_kwargs={}, response_metadata={'finish_reason': 'stop', 'model_name': 'llama3-8b-8192', 'system_fingerprint': 'fp_8dc6ecaf8e'}, id='run--df1ba13a-42a0-4ccc-b173-a881ab65ed1b', usage_metadata={'input_tokens': 21, 'output_tokens': 55, 'total_tokens': 76})]}}}, 'parent_ids': []}\n",
      "{'event': 'on_chain_end', 'data': {'output': {'messages': [HumanMessage(content='Hi My name is Krish and I like to play cricket', additional_kwargs={}, response_metadata={}, id='5cbc8727-5339-4a8a-9d63-09267608e1af'), AIMessage(content=\"Nice to meet you, Krish! That's awesome that you like to play cricket! What's your favorite aspect of the game? Are you a skilled batsman, a sharp bowler, or a agile fielder? Do you play for a team or with friends?\", additional_kwargs={}, response_metadata={'finish_reason': 'stop', 'model_name': 'llama3-8b-8192', 'system_fingerprint': 'fp_8dc6ecaf8e'}, id='run--df1ba13a-42a0-4ccc-b173-a881ab65ed1b', usage_metadata={'input_tokens': 21, 'output_tokens': 55, 'total_tokens': 76})]}}, 'run_id': 'fc9179e8-7f2a-40ea-86d8-80d86b0ab3b6', 'name': 'LangGraph', 'tags': [], 'metadata': {'thread_id': '5'}, 'parent_ids': []}\n"
     ]
    }
   ],
   "source": [
    "config = {\"configurable\": {\"thread_id\": \"5\"}}\n",
    "\n",
    "async for event in graph_builder.astream_events({\"messages\":[\"Hi My name is Krish and I like to play cricket\"]},config,version=\"v2\"):\n",
    "    print(event)"
   ]
  },
  {
   "cell_type": "code",
   "execution_count": null,
   "id": "b4326d9b",
   "metadata": {},
   "outputs": [],
   "source": []
  }
 ],
 "metadata": {
  "kernelspec": {
   "display_name": "agenticlanggraph",
   "language": "python",
   "name": "python3"
  },
  "language_info": {
   "codemirror_mode": {
    "name": "ipython",
    "version": 3
   },
   "file_extension": ".py",
   "mimetype": "text/x-python",
   "name": "python",
   "nbconvert_exporter": "python",
   "pygments_lexer": "ipython3",
   "version": "3.13.1"
  }
 },
 "nbformat": 4,
 "nbformat_minor": 5
}
